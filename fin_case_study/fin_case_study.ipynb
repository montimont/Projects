{
  "nbformat": 4,
  "nbformat_minor": 0,
  "metadata": {
    "colab": {
      "provenance": []
    },
    "kernelspec": {
      "name": "python3",
      "display_name": "Python 3"
    },
    "language_info": {
      "name": "python"
    }
  },
  "cells": [
    {
      "cell_type": "markdown",
      "source": [
        "# DATA SETUP"
      ],
      "metadata": {
        "id": "MPscSbqTGRxr"
      }
    },
    {
      "cell_type": "markdown",
      "source": [
        "## LIBRARIES AND DATA"
      ],
      "metadata": {
        "id": "E0SrmWGoGXfz"
      }
    },
    {
      "cell_type": "code",
      "execution_count": null,
      "metadata": {
        "id": "HZBvsuSlESOT"
      },
      "outputs": [],
      "source": [
        "import pandas as pd\n",
        "import numpy as np\n",
        "import tensorflow as tf\n",
        "from tensorflow import keras\n",
        "from sklearn.metrics import confusion_matrix, classification_report\n",
        "from sklearn.model_selection import train_test_split\n",
        "import statsmodels.api as sm\n",
        "from sklearn.preprocessing import LabelEncoder, StandardScaler\n",
        "from imblearn.over_sampling import SMOTE\n",
        "from sklearn.metrics import roc_curve, roc_auc_score\n",
        "\n",
        "import warnings\n",
        "warnings.filterwarnings('ignore')\n",
        "\n",
        "data = pd.read_csv(\"/content/First_800_Rows.csv\", low_memory=False)"
      ]
    },
    {
      "cell_type": "markdown",
      "source": [
        "## CHECKING AND HANDLING POSSIBLE NULL VALUES"
      ],
      "metadata": {
        "id": "CUn8km20HB0E"
      }
    },
    {
      "cell_type": "code",
      "source": [
        "data.isnull().sum()"
      ],
      "metadata": {
        "colab": {
          "base_uri": "https://localhost:8080/"
        },
        "id": "DZIwYZB4GNjW",
        "outputId": "9324ac6a-044b-4e42-8e64-b88b2a21f9ff"
      },
      "execution_count": null,
      "outputs": [
        {
          "output_type": "execute_result",
          "data": {
            "text/plain": [
              "OBS#                0\n",
              "CHK_ACCT            0\n",
              "DURATION            0\n",
              "HISTORY             0\n",
              "NEW_CAR             0\n",
              "USED_CAR            0\n",
              "FURNITURE           0\n",
              "RADIO/TV            0\n",
              "EDUCATION           0\n",
              "RETRAINING          0\n",
              "AMOUNT              0\n",
              "SAV_ACCT            0\n",
              "EMPLOYMENT          0\n",
              "INSTALL_RATE        0\n",
              "MALE_DIV            0\n",
              "MALE_SINGLE         0\n",
              "MALE_MAR_or_WID     0\n",
              "CO-APPLICANT        0\n",
              "GUARANTOR           0\n",
              "PRESENT_RESIDENT    0\n",
              "REAL_ESTATE         0\n",
              "PROP_UNKN_NONE      0\n",
              "AGE                 0\n",
              "OTHER_INSTALL       0\n",
              "RENT                0\n",
              "OWN_RES             0\n",
              "NUM_CREDITS         0\n",
              "JOB                 0\n",
              "NUM_DEPENDENTS      0\n",
              "TELEPHONE           0\n",
              "FOREIGN             0\n",
              "DEFAULT             0\n",
              "dtype: int64"
            ]
          },
          "metadata": {},
          "execution_count": 2
        }
      ]
    },
    {
      "cell_type": "code",
      "source": [
        "data.info()"
      ],
      "metadata": {
        "colab": {
          "base_uri": "https://localhost:8080/"
        },
        "id": "htx7NG1IHLFi",
        "outputId": "fff66418-fd56-4509-b9d9-5f2c33e19b44"
      },
      "execution_count": null,
      "outputs": [
        {
          "output_type": "stream",
          "name": "stdout",
          "text": [
            "<class 'pandas.core.frame.DataFrame'>\n",
            "RangeIndex: 800 entries, 0 to 799\n",
            "Data columns (total 32 columns):\n",
            " #   Column            Non-Null Count  Dtype\n",
            "---  ------            --------------  -----\n",
            " 0   OBS#              800 non-null    int64\n",
            " 1   CHK_ACCT          800 non-null    int64\n",
            " 2   DURATION          800 non-null    int64\n",
            " 3   HISTORY           800 non-null    int64\n",
            " 4   NEW_CAR           800 non-null    int64\n",
            " 5   USED_CAR          800 non-null    int64\n",
            " 6   FURNITURE         800 non-null    int64\n",
            " 7   RADIO/TV          800 non-null    int64\n",
            " 8   EDUCATION         800 non-null    int64\n",
            " 9   RETRAINING        800 non-null    int64\n",
            " 10  AMOUNT            800 non-null    int64\n",
            " 11  SAV_ACCT          800 non-null    int64\n",
            " 12  EMPLOYMENT        800 non-null    int64\n",
            " 13  INSTALL_RATE      800 non-null    int64\n",
            " 14  MALE_DIV          800 non-null    int64\n",
            " 15  MALE_SINGLE       800 non-null    int64\n",
            " 16  MALE_MAR_or_WID   800 non-null    int64\n",
            " 17  CO-APPLICANT      800 non-null    int64\n",
            " 18  GUARANTOR         800 non-null    int64\n",
            " 19  PRESENT_RESIDENT  800 non-null    int64\n",
            " 20  REAL_ESTATE       800 non-null    int64\n",
            " 21  PROP_UNKN_NONE    800 non-null    int64\n",
            " 22  AGE               800 non-null    int64\n",
            " 23  OTHER_INSTALL     800 non-null    int64\n",
            " 24  RENT              800 non-null    int64\n",
            " 25  OWN_RES           800 non-null    int64\n",
            " 26  NUM_CREDITS       800 non-null    int64\n",
            " 27  JOB               800 non-null    int64\n",
            " 28  NUM_DEPENDENTS    800 non-null    int64\n",
            " 29  TELEPHONE         800 non-null    int64\n",
            " 30  FOREIGN           800 non-null    int64\n",
            " 31  DEFAULT           800 non-null    int64\n",
            "dtypes: int64(32)\n",
            "memory usage: 200.1 KB\n"
          ]
        }
      ]
    },
    {
      "cell_type": "markdown",
      "source": [],
      "metadata": {
        "id": "5JlFfDlfihbr"
      }
    },
    {
      "cell_type": "markdown",
      "source": [
        "# FEATURE ENGINEERING AND SELECTION"
      ],
      "metadata": {
        "id": "UzPI7fmjix2I"
      }
    },
    {
      "cell_type": "markdown",
      "source": [
        "## CATEGORIZE COLUMNS AS 'BINARY', 'CATEGORICAL', OR 'CONTINUOUS'."
      ],
      "metadata": {
        "id": "4x644R46IIm1"
      }
    },
    {
      "cell_type": "code",
      "source": [
        "categorical_columns = ['CHK_ACCT', 'HISTORY', 'SAV_ACCT', 'EMPLOYMENT', 'PRESENT_RESIDENT', 'JOB']\n"
      ],
      "metadata": {
        "id": "mShovsgzHePi"
      },
      "execution_count": null,
      "outputs": []
    },
    {
      "cell_type": "code",
      "source": [
        "numerical_columns = ['DURATION', 'AMOUNT', 'AGE', 'INSTALL_RATE', 'NUM_CREDITS', 'NUM_DEPENDENTS']\n",
        "\n",
        "scaler = StandardScaler()\n",
        "data[numerical_columns] = scaler.fit_transform(data[numerical_columns])"
      ],
      "metadata": {
        "id": "qXPny92FM5K5"
      },
      "execution_count": null,
      "outputs": []
    },
    {
      "cell_type": "code",
      "source": [
        "binary_columns = ['NEW_CAR', 'USED_CAR', 'FURNITURE', 'RADIO/TV', 'EDUCATION', 'RETRAINING', 'MALE_DIV',\n",
        "                  'MALE_SINGLE', 'MALE_MAR_or_WID', 'CO-APPLICANT', 'GUARANTOR', 'REAL_ESTATE', 'PROP_UNKN_NONE',\n",
        "                  'OTHER_INSTALL', 'RENT', 'OWN_RES', 'TELEPHONE', 'FOREIGN', 'DEFAULT']\n",
        "data[binary_columns] = data[binary_columns].astype(int)"
      ],
      "metadata": {
        "id": "cGV6kPaENI06"
      },
      "execution_count": null,
      "outputs": []
    },
    {
      "cell_type": "markdown",
      "source": [
        "## LOGIT"
      ],
      "metadata": {
        "id": "YO8NdLuxOGyJ"
      }
    },
    {
      "cell_type": "markdown",
      "source": [
        "### CHECK SIGNIFICANCE OF NUMERICAL"
      ],
      "metadata": {
        "id": "jbjGKDziSGYj"
      }
    },
    {
      "cell_type": "code",
      "source": [
        "numerical_columns = ['DURATION', 'AMOUNT', 'INSTALL_RATE', 'AGE']\n",
        "\n",
        "numerical_data = data_with_dummies[numerical_columns + ['DEFAULT']]\n",
        "\n",
        "y_numerical = numerical_data['DEFAULT']\n",
        "X_numerical = numerical_data.drop('DEFAULT', axis=1)\n",
        "\n",
        "X_numerical = sm.add_constant(X_numerical)\n",
        "\n",
        "logit_model_numerical = sm.Logit(y_numerical, X_numerical)\n",
        "logit_result_numerical = logit_model_numerical.fit()\n",
        "\n",
        "logit_summary_numerical = logit_result_numerical.summary()\n",
        "logit_summary_numerical\n"
      ],
      "metadata": {
        "colab": {
          "base_uri": "https://localhost:8080/",
          "height": 370
        },
        "id": "ZLxciIpWR_Yn",
        "outputId": "d09d9cc7-c1cc-4915-b405-c2433cc198dd"
      },
      "execution_count": null,
      "outputs": [
        {
          "output_type": "stream",
          "name": "stdout",
          "text": [
            "Optimization terminated successfully.\n",
            "         Current function value: 0.577621\n",
            "         Iterations 5\n"
          ]
        },
        {
          "output_type": "execute_result",
          "data": {
            "text/plain": [
              "<class 'statsmodels.iolib.summary.Summary'>\n",
              "\"\"\"\n",
              "                           Logit Regression Results                           \n",
              "==============================================================================\n",
              "Dep. Variable:                DEFAULT   No. Observations:                  800\n",
              "Model:                          Logit   Df Residuals:                      795\n",
              "Method:                           MLE   Df Model:                            4\n",
              "Date:                Wed, 27 Mar 2024   Pseudo R-squ.:                 0.05277\n",
              "Time:                        06:16:37   Log-Likelihood:                -462.10\n",
              "converged:                       True   LL-Null:                       -487.84\n",
              "Covariance Type:            nonrobust   LLR p-value:                 1.764e-10\n",
              "================================================================================\n",
              "                   coef    std err          z      P>|z|      [0.025      0.975]\n",
              "--------------------------------------------------------------------------------\n",
              "const           -0.9137      0.082    -11.193      0.000      -1.074      -0.754\n",
              "DURATION         0.2966      0.103      2.866      0.004       0.094       0.499\n",
              "AMOUNT           0.2091      0.107      1.956      0.050      -0.000       0.419\n",
              "INSTALL_RATE     0.2822      0.091      3.099      0.002       0.104       0.461\n",
              "AGE             -0.2592      0.087     -2.983      0.003      -0.430      -0.089\n",
              "================================================================================\n",
              "\"\"\""
            ],
            "text/html": [
              "<table class=\"simpletable\">\n",
              "<caption>Logit Regression Results</caption>\n",
              "<tr>\n",
              "  <th>Dep. Variable:</th>        <td>DEFAULT</td>     <th>  No. Observations:  </th>  <td>   800</td>  \n",
              "</tr>\n",
              "<tr>\n",
              "  <th>Model:</th>                 <td>Logit</td>      <th>  Df Residuals:      </th>  <td>   795</td>  \n",
              "</tr>\n",
              "<tr>\n",
              "  <th>Method:</th>                 <td>MLE</td>       <th>  Df Model:          </th>  <td>     4</td>  \n",
              "</tr>\n",
              "<tr>\n",
              "  <th>Date:</th>            <td>Wed, 27 Mar 2024</td> <th>  Pseudo R-squ.:     </th>  <td>0.05277</td> \n",
              "</tr>\n",
              "<tr>\n",
              "  <th>Time:</th>                <td>06:16:37</td>     <th>  Log-Likelihood:    </th> <td> -462.10</td> \n",
              "</tr>\n",
              "<tr>\n",
              "  <th>converged:</th>             <td>True</td>       <th>  LL-Null:           </th> <td> -487.84</td> \n",
              "</tr>\n",
              "<tr>\n",
              "  <th>Covariance Type:</th>     <td>nonrobust</td>    <th>  LLR p-value:       </th> <td>1.764e-10</td>\n",
              "</tr>\n",
              "</table>\n",
              "<table class=\"simpletable\">\n",
              "<tr>\n",
              "        <td></td>          <th>coef</th>     <th>std err</th>      <th>z</th>      <th>P>|z|</th>  <th>[0.025</th>    <th>0.975]</th>  \n",
              "</tr>\n",
              "<tr>\n",
              "  <th>const</th>        <td>   -0.9137</td> <td>    0.082</td> <td>  -11.193</td> <td> 0.000</td> <td>   -1.074</td> <td>   -0.754</td>\n",
              "</tr>\n",
              "<tr>\n",
              "  <th>DURATION</th>     <td>    0.2966</td> <td>    0.103</td> <td>    2.866</td> <td> 0.004</td> <td>    0.094</td> <td>    0.499</td>\n",
              "</tr>\n",
              "<tr>\n",
              "  <th>AMOUNT</th>       <td>    0.2091</td> <td>    0.107</td> <td>    1.956</td> <td> 0.050</td> <td>   -0.000</td> <td>    0.419</td>\n",
              "</tr>\n",
              "<tr>\n",
              "  <th>INSTALL_RATE</th> <td>    0.2822</td> <td>    0.091</td> <td>    3.099</td> <td> 0.002</td> <td>    0.104</td> <td>    0.461</td>\n",
              "</tr>\n",
              "<tr>\n",
              "  <th>AGE</th>          <td>   -0.2592</td> <td>    0.087</td> <td>   -2.983</td> <td> 0.003</td> <td>   -0.430</td> <td>   -0.089</td>\n",
              "</tr>\n",
              "</table>"
            ],
            "text/latex": "\\begin{center}\n\\begin{tabular}{lclc}\n\\toprule\n\\textbf{Dep. Variable:}   &     DEFAULT      & \\textbf{  No. Observations:  } &      800    \\\\\n\\textbf{Model:}           &      Logit       & \\textbf{  Df Residuals:      } &      795    \\\\\n\\textbf{Method:}          &       MLE        & \\textbf{  Df Model:          } &        4    \\\\\n\\textbf{Date:}            & Wed, 27 Mar 2024 & \\textbf{  Pseudo R-squ.:     } &  0.05277    \\\\\n\\textbf{Time:}            &     06:16:37     & \\textbf{  Log-Likelihood:    } &   -462.10   \\\\\n\\textbf{converged:}       &       True       & \\textbf{  LL-Null:           } &   -487.84   \\\\\n\\textbf{Covariance Type:} &    nonrobust     & \\textbf{  LLR p-value:       } & 1.764e-10   \\\\\n\\bottomrule\n\\end{tabular}\n\\begin{tabular}{lcccccc}\n                       & \\textbf{coef} & \\textbf{std err} & \\textbf{z} & \\textbf{P$> |$z$|$} & \\textbf{[0.025} & \\textbf{0.975]}  \\\\\n\\midrule\n\\textbf{const}         &      -0.9137  &        0.082     &   -11.193  &         0.000        &       -1.074    &       -0.754     \\\\\n\\textbf{DURATION}      &       0.2966  &        0.103     &     2.866  &         0.004        &        0.094    &        0.499     \\\\\n\\textbf{AMOUNT}        &       0.2091  &        0.107     &     1.956  &         0.050        &       -0.000    &        0.419     \\\\\n\\textbf{INSTALL\\_RATE} &       0.2822  &        0.091     &     3.099  &         0.002        &        0.104    &        0.461     \\\\\n\\textbf{AGE}           &      -0.2592  &        0.087     &    -2.983  &         0.003        &       -0.430    &       -0.089     \\\\\n\\bottomrule\n\\end{tabular}\n%\\caption{Logit Regression Results}\n\\end{center}"
          },
          "metadata": {},
          "execution_count": 8
        }
      ]
    },
    {
      "cell_type": "markdown",
      "source": [
        "### CHECK SIGNIFICANCE OF BINARY"
      ],
      "metadata": {
        "id": "cyvvkXZAj8eE"
      }
    },
    {
      "cell_type": "code",
      "source": [
        "binary_columns = ['NEW_CAR', 'USED_CAR', 'FURNITURE', 'RADIO/TV', 'EDUCATION', 'RETRAINING', 'MALE_DIV',\n",
        "                  'MALE_SINGLE', 'MALE_MAR_or_WID', 'CO-APPLICANT', 'GUARANTOR', 'REAL_ESTATE',\n",
        "                  'PROP_UNKN_NONE', 'OTHER_INSTALL', 'RENT', 'OWN_RES', 'TELEPHONE', 'FOREIGN']\n",
        "\n",
        "binary_data = data_with_dummies[binary_columns + ['DEFAULT']]\n",
        "\n",
        "y_binary = binary_data['DEFAULT']\n",
        "X_binary = binary_data.drop('DEFAULT', axis=1)\n",
        "\n",
        "X_binary = sm.add_constant(X_binary)\n",
        "\n",
        "logit_model_binary = sm.Logit(y_binary, X_binary)\n",
        "logit_result_binary = logit_model_binary.fit()\n",
        "\n",
        "logit_summary_binary = logit_result_binary.summary()\n",
        "logit_summary_binary\n"
      ],
      "metadata": {
        "colab": {
          "base_uri": "https://localhost:8080/",
          "height": 669
        },
        "id": "UlydxAsjSOYz",
        "outputId": "4cb5b156-7c6d-4812-d355-c0a9aaa58ee7"
      },
      "execution_count": null,
      "outputs": [
        {
          "output_type": "stream",
          "name": "stdout",
          "text": [
            "Optimization terminated successfully.\n",
            "         Current function value: 0.554791\n",
            "         Iterations 7\n"
          ]
        },
        {
          "output_type": "execute_result",
          "data": {
            "text/plain": [
              "<class 'statsmodels.iolib.summary.Summary'>\n",
              "\"\"\"\n",
              "                           Logit Regression Results                           \n",
              "==============================================================================\n",
              "Dep. Variable:                DEFAULT   No. Observations:                  800\n",
              "Model:                          Logit   Df Residuals:                      781\n",
              "Method:                           MLE   Df Model:                           18\n",
              "Date:                Wed, 27 Mar 2024   Pseudo R-squ.:                 0.09021\n",
              "Time:                        06:16:38   Log-Likelihood:                -443.83\n",
              "converged:                       True   LL-Null:                       -487.84\n",
              "Covariance Type:            nonrobust   LLR p-value:                 3.272e-11\n",
              "===================================================================================\n",
              "                      coef    std err          z      P>|z|      [0.025      0.975]\n",
              "-----------------------------------------------------------------------------------\n",
              "const              -0.6705      0.538     -1.245      0.213      -1.726       0.385\n",
              "NEW_CAR             0.4569      0.369      1.237      0.216      -0.267       1.181\n",
              "USED_CAR           -1.0663      0.467     -2.281      0.023      -1.983      -0.150\n",
              "FURNITURE          -0.0717      0.386     -0.186      0.853      -0.828       0.685\n",
              "RADIO/TV           -0.3238      0.372     -0.870      0.384      -1.053       0.406\n",
              "EDUCATION           0.3549      0.459      0.773      0.440      -0.545       1.255\n",
              "RETRAINING          0.1563      0.420      0.372      0.710      -0.667       0.979\n",
              "MALE_DIV            0.4886      0.372      1.313      0.189      -0.241       1.218\n",
              "MALE_SINGLE        -0.5209      0.188     -2.773      0.006      -0.889      -0.153\n",
              "MALE_MAR_or_WID    -0.0250      0.313     -0.080      0.937      -0.639       0.589\n",
              "CO-APPLICANT        0.7274      0.405      1.797      0.072      -0.066       1.521\n",
              "GUARANTOR          -0.2530      0.429     -0.590      0.555      -1.093       0.588\n",
              "REAL_ESTATE        -0.4627      0.203     -2.278      0.023      -0.861      -0.065\n",
              "PROP_UNKN_NONE      0.7196      0.342      2.101      0.036       0.048       1.391\n",
              "OTHER_INSTALL       0.5330      0.204      2.611      0.009       0.133       0.933\n",
              "RENT                0.5512      0.414      1.331      0.183      -0.261       1.363\n",
              "OWN_RES             0.0234      0.395      0.059      0.953      -0.751       0.798\n",
              "TELEPHONE          -0.2873      0.175     -1.646      0.100      -0.629       0.055\n",
              "FOREIGN            -1.9054      0.773     -2.466      0.014      -3.420      -0.391\n",
              "===================================================================================\n",
              "\"\"\""
            ],
            "text/html": [
              "<table class=\"simpletable\">\n",
              "<caption>Logit Regression Results</caption>\n",
              "<tr>\n",
              "  <th>Dep. Variable:</th>        <td>DEFAULT</td>     <th>  No. Observations:  </th>  <td>   800</td>  \n",
              "</tr>\n",
              "<tr>\n",
              "  <th>Model:</th>                 <td>Logit</td>      <th>  Df Residuals:      </th>  <td>   781</td>  \n",
              "</tr>\n",
              "<tr>\n",
              "  <th>Method:</th>                 <td>MLE</td>       <th>  Df Model:          </th>  <td>    18</td>  \n",
              "</tr>\n",
              "<tr>\n",
              "  <th>Date:</th>            <td>Wed, 27 Mar 2024</td> <th>  Pseudo R-squ.:     </th>  <td>0.09021</td> \n",
              "</tr>\n",
              "<tr>\n",
              "  <th>Time:</th>                <td>06:16:38</td>     <th>  Log-Likelihood:    </th> <td> -443.83</td> \n",
              "</tr>\n",
              "<tr>\n",
              "  <th>converged:</th>             <td>True</td>       <th>  LL-Null:           </th> <td> -487.84</td> \n",
              "</tr>\n",
              "<tr>\n",
              "  <th>Covariance Type:</th>     <td>nonrobust</td>    <th>  LLR p-value:       </th> <td>3.272e-11</td>\n",
              "</tr>\n",
              "</table>\n",
              "<table class=\"simpletable\">\n",
              "<tr>\n",
              "         <td></td>            <th>coef</th>     <th>std err</th>      <th>z</th>      <th>P>|z|</th>  <th>[0.025</th>    <th>0.975]</th>  \n",
              "</tr>\n",
              "<tr>\n",
              "  <th>const</th>           <td>   -0.6705</td> <td>    0.538</td> <td>   -1.245</td> <td> 0.213</td> <td>   -1.726</td> <td>    0.385</td>\n",
              "</tr>\n",
              "<tr>\n",
              "  <th>NEW_CAR</th>         <td>    0.4569</td> <td>    0.369</td> <td>    1.237</td> <td> 0.216</td> <td>   -0.267</td> <td>    1.181</td>\n",
              "</tr>\n",
              "<tr>\n",
              "  <th>USED_CAR</th>        <td>   -1.0663</td> <td>    0.467</td> <td>   -2.281</td> <td> 0.023</td> <td>   -1.983</td> <td>   -0.150</td>\n",
              "</tr>\n",
              "<tr>\n",
              "  <th>FURNITURE</th>       <td>   -0.0717</td> <td>    0.386</td> <td>   -0.186</td> <td> 0.853</td> <td>   -0.828</td> <td>    0.685</td>\n",
              "</tr>\n",
              "<tr>\n",
              "  <th>RADIO/TV</th>        <td>   -0.3238</td> <td>    0.372</td> <td>   -0.870</td> <td> 0.384</td> <td>   -1.053</td> <td>    0.406</td>\n",
              "</tr>\n",
              "<tr>\n",
              "  <th>EDUCATION</th>       <td>    0.3549</td> <td>    0.459</td> <td>    0.773</td> <td> 0.440</td> <td>   -0.545</td> <td>    1.255</td>\n",
              "</tr>\n",
              "<tr>\n",
              "  <th>RETRAINING</th>      <td>    0.1563</td> <td>    0.420</td> <td>    0.372</td> <td> 0.710</td> <td>   -0.667</td> <td>    0.979</td>\n",
              "</tr>\n",
              "<tr>\n",
              "  <th>MALE_DIV</th>        <td>    0.4886</td> <td>    0.372</td> <td>    1.313</td> <td> 0.189</td> <td>   -0.241</td> <td>    1.218</td>\n",
              "</tr>\n",
              "<tr>\n",
              "  <th>MALE_SINGLE</th>     <td>   -0.5209</td> <td>    0.188</td> <td>   -2.773</td> <td> 0.006</td> <td>   -0.889</td> <td>   -0.153</td>\n",
              "</tr>\n",
              "<tr>\n",
              "  <th>MALE_MAR_or_WID</th> <td>   -0.0250</td> <td>    0.313</td> <td>   -0.080</td> <td> 0.937</td> <td>   -0.639</td> <td>    0.589</td>\n",
              "</tr>\n",
              "<tr>\n",
              "  <th>CO-APPLICANT</th>    <td>    0.7274</td> <td>    0.405</td> <td>    1.797</td> <td> 0.072</td> <td>   -0.066</td> <td>    1.521</td>\n",
              "</tr>\n",
              "<tr>\n",
              "  <th>GUARANTOR</th>       <td>   -0.2530</td> <td>    0.429</td> <td>   -0.590</td> <td> 0.555</td> <td>   -1.093</td> <td>    0.588</td>\n",
              "</tr>\n",
              "<tr>\n",
              "  <th>REAL_ESTATE</th>     <td>   -0.4627</td> <td>    0.203</td> <td>   -2.278</td> <td> 0.023</td> <td>   -0.861</td> <td>   -0.065</td>\n",
              "</tr>\n",
              "<tr>\n",
              "  <th>PROP_UNKN_NONE</th>  <td>    0.7196</td> <td>    0.342</td> <td>    2.101</td> <td> 0.036</td> <td>    0.048</td> <td>    1.391</td>\n",
              "</tr>\n",
              "<tr>\n",
              "  <th>OTHER_INSTALL</th>   <td>    0.5330</td> <td>    0.204</td> <td>    2.611</td> <td> 0.009</td> <td>    0.133</td> <td>    0.933</td>\n",
              "</tr>\n",
              "<tr>\n",
              "  <th>RENT</th>            <td>    0.5512</td> <td>    0.414</td> <td>    1.331</td> <td> 0.183</td> <td>   -0.261</td> <td>    1.363</td>\n",
              "</tr>\n",
              "<tr>\n",
              "  <th>OWN_RES</th>         <td>    0.0234</td> <td>    0.395</td> <td>    0.059</td> <td> 0.953</td> <td>   -0.751</td> <td>    0.798</td>\n",
              "</tr>\n",
              "<tr>\n",
              "  <th>TELEPHONE</th>       <td>   -0.2873</td> <td>    0.175</td> <td>   -1.646</td> <td> 0.100</td> <td>   -0.629</td> <td>    0.055</td>\n",
              "</tr>\n",
              "<tr>\n",
              "  <th>FOREIGN</th>         <td>   -1.9054</td> <td>    0.773</td> <td>   -2.466</td> <td> 0.014</td> <td>   -3.420</td> <td>   -0.391</td>\n",
              "</tr>\n",
              "</table>"
            ],
            "text/latex": "\\begin{center}\n\\begin{tabular}{lclc}\n\\toprule\n\\textbf{Dep. Variable:}     &     DEFAULT      & \\textbf{  No. Observations:  } &      800    \\\\\n\\textbf{Model:}             &      Logit       & \\textbf{  Df Residuals:      } &      781    \\\\\n\\textbf{Method:}            &       MLE        & \\textbf{  Df Model:          } &       18    \\\\\n\\textbf{Date:}              & Wed, 27 Mar 2024 & \\textbf{  Pseudo R-squ.:     } &  0.09021    \\\\\n\\textbf{Time:}              &     06:16:38     & \\textbf{  Log-Likelihood:    } &   -443.83   \\\\\n\\textbf{converged:}         &       True       & \\textbf{  LL-Null:           } &   -487.84   \\\\\n\\textbf{Covariance Type:}   &    nonrobust     & \\textbf{  LLR p-value:       } & 3.272e-11   \\\\\n\\bottomrule\n\\end{tabular}\n\\begin{tabular}{lcccccc}\n                            & \\textbf{coef} & \\textbf{std err} & \\textbf{z} & \\textbf{P$> |$z$|$} & \\textbf{[0.025} & \\textbf{0.975]}  \\\\\n\\midrule\n\\textbf{const}              &      -0.6705  &        0.538     &    -1.245  &         0.213        &       -1.726    &        0.385     \\\\\n\\textbf{NEW\\_CAR}           &       0.4569  &        0.369     &     1.237  &         0.216        &       -0.267    &        1.181     \\\\\n\\textbf{USED\\_CAR}          &      -1.0663  &        0.467     &    -2.281  &         0.023        &       -1.983    &       -0.150     \\\\\n\\textbf{FURNITURE}          &      -0.0717  &        0.386     &    -0.186  &         0.853        &       -0.828    &        0.685     \\\\\n\\textbf{RADIO/TV}           &      -0.3238  &        0.372     &    -0.870  &         0.384        &       -1.053    &        0.406     \\\\\n\\textbf{EDUCATION}          &       0.3549  &        0.459     &     0.773  &         0.440        &       -0.545    &        1.255     \\\\\n\\textbf{RETRAINING}         &       0.1563  &        0.420     &     0.372  &         0.710        &       -0.667    &        0.979     \\\\\n\\textbf{MALE\\_DIV}          &       0.4886  &        0.372     &     1.313  &         0.189        &       -0.241    &        1.218     \\\\\n\\textbf{MALE\\_SINGLE}       &      -0.5209  &        0.188     &    -2.773  &         0.006        &       -0.889    &       -0.153     \\\\\n\\textbf{MALE\\_MAR\\_or\\_WID} &      -0.0250  &        0.313     &    -0.080  &         0.937        &       -0.639    &        0.589     \\\\\n\\textbf{CO-APPLICANT}       &       0.7274  &        0.405     &     1.797  &         0.072        &       -0.066    &        1.521     \\\\\n\\textbf{GUARANTOR}          &      -0.2530  &        0.429     &    -0.590  &         0.555        &       -1.093    &        0.588     \\\\\n\\textbf{REAL\\_ESTATE}       &      -0.4627  &        0.203     &    -2.278  &         0.023        &       -0.861    &       -0.065     \\\\\n\\textbf{PROP\\_UNKN\\_NONE}   &       0.7196  &        0.342     &     2.101  &         0.036        &        0.048    &        1.391     \\\\\n\\textbf{OTHER\\_INSTALL}     &       0.5330  &        0.204     &     2.611  &         0.009        &        0.133    &        0.933     \\\\\n\\textbf{RENT}               &       0.5512  &        0.414     &     1.331  &         0.183        &       -0.261    &        1.363     \\\\\n\\textbf{OWN\\_RES}           &       0.0234  &        0.395     &     0.059  &         0.953        &       -0.751    &        0.798     \\\\\n\\textbf{TELEPHONE}          &      -0.2873  &        0.175     &    -1.646  &         0.100        &       -0.629    &        0.055     \\\\\n\\textbf{FOREIGN}            &      -1.9054  &        0.773     &    -2.466  &         0.014        &       -3.420    &       -0.391     \\\\\n\\bottomrule\n\\end{tabular}\n%\\caption{Logit Regression Results}\n\\end{center}"
          },
          "metadata": {},
          "execution_count": 10
        }
      ]
    },
    {
      "cell_type": "markdown",
      "source": [
        "### CHECK SIGNIFICANCE OF CATEGORIES\n"
      ],
      "metadata": {
        "id": "t9tCIVpfSn8R"
      }
    },
    {
      "cell_type": "code",
      "source": [
        "categorical_columns = ['CHK_ACCT', 'HISTORY', 'SAV_ACCT', 'EMPLOYMENT', 'PRESENT_RESIDENT', 'JOB']\n",
        "\n",
        "categorical_data = pd.get_dummies(data[categorical_columns], columns=categorical_columns, drop_first=True)\n",
        "\n",
        "categorical_data['DEFAULT'] = data['DEFAULT']\n",
        "\n",
        "y_categorical = categorical_data['DEFAULT']\n",
        "X_categorical = categorical_data.drop('DEFAULT', axis=1)\n",
        "\n",
        "X_categorical = sm.add_constant(X_categorical)\n",
        "\n",
        "logit_model_categorical = sm.Logit(y_categorical, X_categorical)\n",
        "logit_result_categorical = logit_model_categorical.fit()\n",
        "\n",
        "logit_summary_categorical = logit_result_categorical.summary()\n",
        "logit_summary_categorical\n"
      ],
      "metadata": {
        "colab": {
          "base_uri": "https://localhost:8080/",
          "height": 733
        },
        "id": "AT3_Z2LgSlj3",
        "outputId": "dd4e22ff-edb3-48ff-ac4d-9ba6961974b2"
      },
      "execution_count": null,
      "outputs": [
        {
          "output_type": "stream",
          "name": "stdout",
          "text": [
            "Optimization terminated successfully.\n",
            "         Current function value: 0.511829\n",
            "         Iterations 6\n"
          ]
        },
        {
          "output_type": "execute_result",
          "data": {
            "text/plain": [
              "<class 'statsmodels.iolib.summary.Summary'>\n",
              "\"\"\"\n",
              "                           Logit Regression Results                           \n",
              "==============================================================================\n",
              "Dep. Variable:                DEFAULT   No. Observations:                  800\n",
              "Model:                          Logit   Df Residuals:                      778\n",
              "Method:                           MLE   Df Model:                           21\n",
              "Date:                Wed, 27 Mar 2024   Pseudo R-squ.:                  0.1607\n",
              "Time:                        06:16:38   Log-Likelihood:                -409.46\n",
              "converged:                       True   LL-Null:                       -487.84\n",
              "Covariance Type:            nonrobust   LLR p-value:                 9.047e-23\n",
              "======================================================================================\n",
              "                         coef    std err          z      P>|z|      [0.025      0.975]\n",
              "--------------------------------------------------------------------------------------\n",
              "const                  0.4344      0.750      0.580      0.562      -1.035       1.903\n",
              "CHK_ACCT_1            -0.3239      0.212     -1.530      0.126      -0.739       0.091\n",
              "CHK_ACCT_2            -1.1948      0.375     -3.182      0.001      -1.931      -0.459\n",
              "CHK_ACCT_3            -1.7970      0.242     -7.435      0.000      -2.271      -1.323\n",
              "HISTORY_1              0.1537      0.535      0.287      0.774      -0.895       1.203\n",
              "HISTORY_2             -0.9748      0.404     -2.413      0.016      -1.767      -0.183\n",
              "HISTORY_3             -0.8114      0.475     -1.709      0.087      -1.742       0.119\n",
              "HISTORY_4             -1.4696      0.431     -3.412      0.001      -2.314      -0.625\n",
              "SAV_ACCT_1            -0.0056      0.279     -0.020      0.984      -0.553       0.542\n",
              "SAV_ACCT_2            -0.7517      0.461     -1.629      0.103      -1.656       0.153\n",
              "SAV_ACCT_3            -1.0303      0.500     -2.060      0.039      -2.011      -0.050\n",
              "SAV_ACCT_4            -0.5083      0.254     -2.002      0.045      -1.006      -0.011\n",
              "EMPLOYMENT_1           0.3889      0.433      0.899      0.369      -0.459       1.237\n",
              "EMPLOYMENT_2          -0.0958      0.415     -0.231      0.817      -0.910       0.718\n",
              "EMPLOYMENT_3          -0.6154      0.443     -1.390      0.165      -1.483       0.252\n",
              "EMPLOYMENT_4          -0.2383      0.413     -0.576      0.564      -1.049       0.572\n",
              "PRESENT_RESIDENT_2     0.6386      0.298      2.144      0.032       0.055       1.222\n",
              "PRESENT_RESIDENT_3     0.4428      0.333      1.329      0.184      -0.210       1.096\n",
              "PRESENT_RESIDENT_4     0.4335      0.288      1.503      0.133      -0.132       0.999\n",
              "JOB_1                 -0.0172      0.669     -0.026      0.979      -1.328       1.294\n",
              "JOB_2                  0.2545      0.646      0.394      0.694      -1.012       1.521\n",
              "JOB_3                  0.6031      0.644      0.937      0.349      -0.659       1.865\n",
              "======================================================================================\n",
              "\"\"\""
            ],
            "text/html": [
              "<table class=\"simpletable\">\n",
              "<caption>Logit Regression Results</caption>\n",
              "<tr>\n",
              "  <th>Dep. Variable:</th>        <td>DEFAULT</td>     <th>  No. Observations:  </th>  <td>   800</td>  \n",
              "</tr>\n",
              "<tr>\n",
              "  <th>Model:</th>                 <td>Logit</td>      <th>  Df Residuals:      </th>  <td>   778</td>  \n",
              "</tr>\n",
              "<tr>\n",
              "  <th>Method:</th>                 <td>MLE</td>       <th>  Df Model:          </th>  <td>    21</td>  \n",
              "</tr>\n",
              "<tr>\n",
              "  <th>Date:</th>            <td>Wed, 27 Mar 2024</td> <th>  Pseudo R-squ.:     </th>  <td>0.1607</td>  \n",
              "</tr>\n",
              "<tr>\n",
              "  <th>Time:</th>                <td>06:16:38</td>     <th>  Log-Likelihood:    </th> <td> -409.46</td> \n",
              "</tr>\n",
              "<tr>\n",
              "  <th>converged:</th>             <td>True</td>       <th>  LL-Null:           </th> <td> -487.84</td> \n",
              "</tr>\n",
              "<tr>\n",
              "  <th>Covariance Type:</th>     <td>nonrobust</td>    <th>  LLR p-value:       </th> <td>9.047e-23</td>\n",
              "</tr>\n",
              "</table>\n",
              "<table class=\"simpletable\">\n",
              "<tr>\n",
              "           <td></td>             <th>coef</th>     <th>std err</th>      <th>z</th>      <th>P>|z|</th>  <th>[0.025</th>    <th>0.975]</th>  \n",
              "</tr>\n",
              "<tr>\n",
              "  <th>const</th>              <td>    0.4344</td> <td>    0.750</td> <td>    0.580</td> <td> 0.562</td> <td>   -1.035</td> <td>    1.903</td>\n",
              "</tr>\n",
              "<tr>\n",
              "  <th>CHK_ACCT_1</th>         <td>   -0.3239</td> <td>    0.212</td> <td>   -1.530</td> <td> 0.126</td> <td>   -0.739</td> <td>    0.091</td>\n",
              "</tr>\n",
              "<tr>\n",
              "  <th>CHK_ACCT_2</th>         <td>   -1.1948</td> <td>    0.375</td> <td>   -3.182</td> <td> 0.001</td> <td>   -1.931</td> <td>   -0.459</td>\n",
              "</tr>\n",
              "<tr>\n",
              "  <th>CHK_ACCT_3</th>         <td>   -1.7970</td> <td>    0.242</td> <td>   -7.435</td> <td> 0.000</td> <td>   -2.271</td> <td>   -1.323</td>\n",
              "</tr>\n",
              "<tr>\n",
              "  <th>HISTORY_1</th>          <td>    0.1537</td> <td>    0.535</td> <td>    0.287</td> <td> 0.774</td> <td>   -0.895</td> <td>    1.203</td>\n",
              "</tr>\n",
              "<tr>\n",
              "  <th>HISTORY_2</th>          <td>   -0.9748</td> <td>    0.404</td> <td>   -2.413</td> <td> 0.016</td> <td>   -1.767</td> <td>   -0.183</td>\n",
              "</tr>\n",
              "<tr>\n",
              "  <th>HISTORY_3</th>          <td>   -0.8114</td> <td>    0.475</td> <td>   -1.709</td> <td> 0.087</td> <td>   -1.742</td> <td>    0.119</td>\n",
              "</tr>\n",
              "<tr>\n",
              "  <th>HISTORY_4</th>          <td>   -1.4696</td> <td>    0.431</td> <td>   -3.412</td> <td> 0.001</td> <td>   -2.314</td> <td>   -0.625</td>\n",
              "</tr>\n",
              "<tr>\n",
              "  <th>SAV_ACCT_1</th>         <td>   -0.0056</td> <td>    0.279</td> <td>   -0.020</td> <td> 0.984</td> <td>   -0.553</td> <td>    0.542</td>\n",
              "</tr>\n",
              "<tr>\n",
              "  <th>SAV_ACCT_2</th>         <td>   -0.7517</td> <td>    0.461</td> <td>   -1.629</td> <td> 0.103</td> <td>   -1.656</td> <td>    0.153</td>\n",
              "</tr>\n",
              "<tr>\n",
              "  <th>SAV_ACCT_3</th>         <td>   -1.0303</td> <td>    0.500</td> <td>   -2.060</td> <td> 0.039</td> <td>   -2.011</td> <td>   -0.050</td>\n",
              "</tr>\n",
              "<tr>\n",
              "  <th>SAV_ACCT_4</th>         <td>   -0.5083</td> <td>    0.254</td> <td>   -2.002</td> <td> 0.045</td> <td>   -1.006</td> <td>   -0.011</td>\n",
              "</tr>\n",
              "<tr>\n",
              "  <th>EMPLOYMENT_1</th>       <td>    0.3889</td> <td>    0.433</td> <td>    0.899</td> <td> 0.369</td> <td>   -0.459</td> <td>    1.237</td>\n",
              "</tr>\n",
              "<tr>\n",
              "  <th>EMPLOYMENT_2</th>       <td>   -0.0958</td> <td>    0.415</td> <td>   -0.231</td> <td> 0.817</td> <td>   -0.910</td> <td>    0.718</td>\n",
              "</tr>\n",
              "<tr>\n",
              "  <th>EMPLOYMENT_3</th>       <td>   -0.6154</td> <td>    0.443</td> <td>   -1.390</td> <td> 0.165</td> <td>   -1.483</td> <td>    0.252</td>\n",
              "</tr>\n",
              "<tr>\n",
              "  <th>EMPLOYMENT_4</th>       <td>   -0.2383</td> <td>    0.413</td> <td>   -0.576</td> <td> 0.564</td> <td>   -1.049</td> <td>    0.572</td>\n",
              "</tr>\n",
              "<tr>\n",
              "  <th>PRESENT_RESIDENT_2</th> <td>    0.6386</td> <td>    0.298</td> <td>    2.144</td> <td> 0.032</td> <td>    0.055</td> <td>    1.222</td>\n",
              "</tr>\n",
              "<tr>\n",
              "  <th>PRESENT_RESIDENT_3</th> <td>    0.4428</td> <td>    0.333</td> <td>    1.329</td> <td> 0.184</td> <td>   -0.210</td> <td>    1.096</td>\n",
              "</tr>\n",
              "<tr>\n",
              "  <th>PRESENT_RESIDENT_4</th> <td>    0.4335</td> <td>    0.288</td> <td>    1.503</td> <td> 0.133</td> <td>   -0.132</td> <td>    0.999</td>\n",
              "</tr>\n",
              "<tr>\n",
              "  <th>JOB_1</th>              <td>   -0.0172</td> <td>    0.669</td> <td>   -0.026</td> <td> 0.979</td> <td>   -1.328</td> <td>    1.294</td>\n",
              "</tr>\n",
              "<tr>\n",
              "  <th>JOB_2</th>              <td>    0.2545</td> <td>    0.646</td> <td>    0.394</td> <td> 0.694</td> <td>   -1.012</td> <td>    1.521</td>\n",
              "</tr>\n",
              "<tr>\n",
              "  <th>JOB_3</th>              <td>    0.6031</td> <td>    0.644</td> <td>    0.937</td> <td> 0.349</td> <td>   -0.659</td> <td>    1.865</td>\n",
              "</tr>\n",
              "</table>"
            ],
            "text/latex": "\\begin{center}\n\\begin{tabular}{lclc}\n\\toprule\n\\textbf{Dep. Variable:}       &     DEFAULT      & \\textbf{  No. Observations:  } &      800    \\\\\n\\textbf{Model:}               &      Logit       & \\textbf{  Df Residuals:      } &      778    \\\\\n\\textbf{Method:}              &       MLE        & \\textbf{  Df Model:          } &       21    \\\\\n\\textbf{Date:}                & Wed, 27 Mar 2024 & \\textbf{  Pseudo R-squ.:     } &   0.1607    \\\\\n\\textbf{Time:}                &     06:16:38     & \\textbf{  Log-Likelihood:    } &   -409.46   \\\\\n\\textbf{converged:}           &       True       & \\textbf{  LL-Null:           } &   -487.84   \\\\\n\\textbf{Covariance Type:}     &    nonrobust     & \\textbf{  LLR p-value:       } & 9.047e-23   \\\\\n\\bottomrule\n\\end{tabular}\n\\begin{tabular}{lcccccc}\n                              & \\textbf{coef} & \\textbf{std err} & \\textbf{z} & \\textbf{P$> |$z$|$} & \\textbf{[0.025} & \\textbf{0.975]}  \\\\\n\\midrule\n\\textbf{const}                &       0.4344  &        0.750     &     0.580  &         0.562        &       -1.035    &        1.903     \\\\\n\\textbf{CHK\\_ACCT\\_1}         &      -0.3239  &        0.212     &    -1.530  &         0.126        &       -0.739    &        0.091     \\\\\n\\textbf{CHK\\_ACCT\\_2}         &      -1.1948  &        0.375     &    -3.182  &         0.001        &       -1.931    &       -0.459     \\\\\n\\textbf{CHK\\_ACCT\\_3}         &      -1.7970  &        0.242     &    -7.435  &         0.000        &       -2.271    &       -1.323     \\\\\n\\textbf{HISTORY\\_1}           &       0.1537  &        0.535     &     0.287  &         0.774        &       -0.895    &        1.203     \\\\\n\\textbf{HISTORY\\_2}           &      -0.9748  &        0.404     &    -2.413  &         0.016        &       -1.767    &       -0.183     \\\\\n\\textbf{HISTORY\\_3}           &      -0.8114  &        0.475     &    -1.709  &         0.087        &       -1.742    &        0.119     \\\\\n\\textbf{HISTORY\\_4}           &      -1.4696  &        0.431     &    -3.412  &         0.001        &       -2.314    &       -0.625     \\\\\n\\textbf{SAV\\_ACCT\\_1}         &      -0.0056  &        0.279     &    -0.020  &         0.984        &       -0.553    &        0.542     \\\\\n\\textbf{SAV\\_ACCT\\_2}         &      -0.7517  &        0.461     &    -1.629  &         0.103        &       -1.656    &        0.153     \\\\\n\\textbf{SAV\\_ACCT\\_3}         &      -1.0303  &        0.500     &    -2.060  &         0.039        &       -2.011    &       -0.050     \\\\\n\\textbf{SAV\\_ACCT\\_4}         &      -0.5083  &        0.254     &    -2.002  &         0.045        &       -1.006    &       -0.011     \\\\\n\\textbf{EMPLOYMENT\\_1}        &       0.3889  &        0.433     &     0.899  &         0.369        &       -0.459    &        1.237     \\\\\n\\textbf{EMPLOYMENT\\_2}        &      -0.0958  &        0.415     &    -0.231  &         0.817        &       -0.910    &        0.718     \\\\\n\\textbf{EMPLOYMENT\\_3}        &      -0.6154  &        0.443     &    -1.390  &         0.165        &       -1.483    &        0.252     \\\\\n\\textbf{EMPLOYMENT\\_4}        &      -0.2383  &        0.413     &    -0.576  &         0.564        &       -1.049    &        0.572     \\\\\n\\textbf{PRESENT\\_RESIDENT\\_2} &       0.6386  &        0.298     &     2.144  &         0.032        &        0.055    &        1.222     \\\\\n\\textbf{PRESENT\\_RESIDENT\\_3} &       0.4428  &        0.333     &     1.329  &         0.184        &       -0.210    &        1.096     \\\\\n\\textbf{PRESENT\\_RESIDENT\\_4} &       0.4335  &        0.288     &     1.503  &         0.133        &       -0.132    &        0.999     \\\\\n\\textbf{JOB\\_1}               &      -0.0172  &        0.669     &    -0.026  &         0.979        &       -1.328    &        1.294     \\\\\n\\textbf{JOB\\_2}               &       0.2545  &        0.646     &     0.394  &         0.694        &       -1.012    &        1.521     \\\\\n\\textbf{JOB\\_3}               &       0.6031  &        0.644     &     0.937  &         0.349        &       -0.659    &        1.865     \\\\\n\\bottomrule\n\\end{tabular}\n%\\caption{Logit Regression Results}\n\\end{center}"
          },
          "metadata": {},
          "execution_count": 11
        }
      ]
    },
    {
      "cell_type": "markdown",
      "source": [
        "### COMBINING SIGNIFICANT VARIABLES FROM ALL THREE DATATYPES INTO ONE DATAFRAME\n"
      ],
      "metadata": {
        "id": "4E9E4OWOkwfz"
      }
    },
    {
      "cell_type": "code",
      "source": [
        "\n",
        "significant_vars = [\n",
        "    'DURATION', 'AMOUNT', 'INSTALL_RATE', 'AGE',\n",
        "    'USED_CAR', 'MALE_SINGLE', 'REAL_ESTATE', 'PROP_UNKN_NONE', 'OTHER_INSTALL', 'FOREIGN',\n",
        "    'CHK_ACCT_1', 'CHK_ACCT_2', 'CHK_ACCT_3', 'HISTORY_2', 'HISTORY_3', 'HISTORY_4',\n",
        "    'SAV_ACCT_3', 'SAV_ACCT_4', 'PRESENT_RESIDENT_2', 'PRESENT_RESIDENT_4'\n",
        "]\n",
        "\n",
        "combined_data = pd.concat([data_with_dummies[significant_vars], y], axis=1)\n",
        "\n",
        "y_combined = combined_data['DEFAULT']\n",
        "X_combined = combined_data.drop('DEFAULT', axis=1)\n",
        "\n",
        "X_combined = sm.add_constant(X_combined)\n",
        "\n",
        "logit_model_combined = sm.Logit(y_combined, X_combined)\n",
        "logit_result_combined = logit_model_combined.fit()\n",
        "\n",
        "logit_summary_combined = logit_result_combined.summary()\n",
        "logit_summary_combined\n"
      ],
      "metadata": {
        "colab": {
          "base_uri": "https://localhost:8080/",
          "height": 711
        },
        "id": "AKua__LwS5Iz",
        "outputId": "41947af2-7f35-43c0-b8d5-9626982b39cd"
      },
      "execution_count": null,
      "outputs": [
        {
          "output_type": "stream",
          "name": "stdout",
          "text": [
            "Optimization terminated successfully.\n",
            "         Current function value: 0.473932\n",
            "         Iterations 7\n"
          ]
        },
        {
          "output_type": "execute_result",
          "data": {
            "text/plain": [
              "<class 'statsmodels.iolib.summary.Summary'>\n",
              "\"\"\"\n",
              "                           Logit Regression Results                           \n",
              "==============================================================================\n",
              "Dep. Variable:                DEFAULT   No. Observations:                  800\n",
              "Model:                          Logit   Df Residuals:                      779\n",
              "Method:                           MLE   Df Model:                           20\n",
              "Date:                Wed, 27 Mar 2024   Pseudo R-squ.:                  0.2228\n",
              "Time:                        06:16:38   Log-Likelihood:                -379.15\n",
              "converged:                       True   LL-Null:                       -487.84\n",
              "Covariance Type:            nonrobust   LLR p-value:                 3.956e-35\n",
              "======================================================================================\n",
              "                         coef    std err          z      P>|z|      [0.025      0.975]\n",
              "--------------------------------------------------------------------------------------\n",
              "const                  1.1224      0.376      2.983      0.003       0.385       1.860\n",
              "DURATION               0.1962      0.116      1.688      0.091      -0.032       0.424\n",
              "AMOUNT                 0.3220      0.127      2.540      0.011       0.074       0.570\n",
              "INSTALL_RATE           0.3678      0.103      3.573      0.000       0.166       0.570\n",
              "AGE                   -0.1624      0.103     -1.583      0.113      -0.363       0.039\n",
              "USED_CAR              -1.1995      0.386     -3.110      0.002      -1.956      -0.443\n",
              "MALE_SINGLE           -0.7978      0.193     -4.137      0.000      -1.176      -0.420\n",
              "REAL_ESTATE           -0.3026      0.218     -1.388      0.165      -0.730       0.125\n",
              "PROP_UNKN_NONE         0.6092      0.276      2.210      0.027       0.069       1.149\n",
              "OTHER_INSTALL          0.3676      0.227      1.617      0.106      -0.078       0.813\n",
              "FOREIGN               -1.3419      0.788     -1.703      0.088      -2.886       0.202\n",
              "CHK_ACCT_1            -0.4334      0.220     -1.974      0.048      -0.864      -0.003\n",
              "CHK_ACCT_2            -1.0647      0.382     -2.785      0.005      -1.814      -0.315\n",
              "CHK_ACCT_3            -1.8853      0.248     -7.593      0.000      -2.372      -1.399\n",
              "HISTORY_2             -0.8187      0.315     -2.602      0.009      -1.435      -0.202\n",
              "HISTORY_3             -0.7209      0.406     -1.777      0.075      -1.516       0.074\n",
              "HISTORY_4             -1.1890      0.349     -3.411      0.001      -1.872      -0.506\n",
              "SAV_ACCT_3            -0.9851      0.516     -1.911      0.056      -1.996       0.025\n",
              "SAV_ACCT_4            -0.5365      0.266     -2.020      0.043      -1.057      -0.016\n",
              "PRESENT_RESIDENT_2     0.3472      0.238      1.461      0.144      -0.119       0.813\n",
              "PRESENT_RESIDENT_4     0.0670      0.226      0.297      0.766      -0.375       0.509\n",
              "======================================================================================\n",
              "\"\"\""
            ],
            "text/html": [
              "<table class=\"simpletable\">\n",
              "<caption>Logit Regression Results</caption>\n",
              "<tr>\n",
              "  <th>Dep. Variable:</th>        <td>DEFAULT</td>     <th>  No. Observations:  </th>  <td>   800</td>  \n",
              "</tr>\n",
              "<tr>\n",
              "  <th>Model:</th>                 <td>Logit</td>      <th>  Df Residuals:      </th>  <td>   779</td>  \n",
              "</tr>\n",
              "<tr>\n",
              "  <th>Method:</th>                 <td>MLE</td>       <th>  Df Model:          </th>  <td>    20</td>  \n",
              "</tr>\n",
              "<tr>\n",
              "  <th>Date:</th>            <td>Wed, 27 Mar 2024</td> <th>  Pseudo R-squ.:     </th>  <td>0.2228</td>  \n",
              "</tr>\n",
              "<tr>\n",
              "  <th>Time:</th>                <td>06:16:38</td>     <th>  Log-Likelihood:    </th> <td> -379.15</td> \n",
              "</tr>\n",
              "<tr>\n",
              "  <th>converged:</th>             <td>True</td>       <th>  LL-Null:           </th> <td> -487.84</td> \n",
              "</tr>\n",
              "<tr>\n",
              "  <th>Covariance Type:</th>     <td>nonrobust</td>    <th>  LLR p-value:       </th> <td>3.956e-35</td>\n",
              "</tr>\n",
              "</table>\n",
              "<table class=\"simpletable\">\n",
              "<tr>\n",
              "           <td></td>             <th>coef</th>     <th>std err</th>      <th>z</th>      <th>P>|z|</th>  <th>[0.025</th>    <th>0.975]</th>  \n",
              "</tr>\n",
              "<tr>\n",
              "  <th>const</th>              <td>    1.1224</td> <td>    0.376</td> <td>    2.983</td> <td> 0.003</td> <td>    0.385</td> <td>    1.860</td>\n",
              "</tr>\n",
              "<tr>\n",
              "  <th>DURATION</th>           <td>    0.1962</td> <td>    0.116</td> <td>    1.688</td> <td> 0.091</td> <td>   -0.032</td> <td>    0.424</td>\n",
              "</tr>\n",
              "<tr>\n",
              "  <th>AMOUNT</th>             <td>    0.3220</td> <td>    0.127</td> <td>    2.540</td> <td> 0.011</td> <td>    0.074</td> <td>    0.570</td>\n",
              "</tr>\n",
              "<tr>\n",
              "  <th>INSTALL_RATE</th>       <td>    0.3678</td> <td>    0.103</td> <td>    3.573</td> <td> 0.000</td> <td>    0.166</td> <td>    0.570</td>\n",
              "</tr>\n",
              "<tr>\n",
              "  <th>AGE</th>                <td>   -0.1624</td> <td>    0.103</td> <td>   -1.583</td> <td> 0.113</td> <td>   -0.363</td> <td>    0.039</td>\n",
              "</tr>\n",
              "<tr>\n",
              "  <th>USED_CAR</th>           <td>   -1.1995</td> <td>    0.386</td> <td>   -3.110</td> <td> 0.002</td> <td>   -1.956</td> <td>   -0.443</td>\n",
              "</tr>\n",
              "<tr>\n",
              "  <th>MALE_SINGLE</th>        <td>   -0.7978</td> <td>    0.193</td> <td>   -4.137</td> <td> 0.000</td> <td>   -1.176</td> <td>   -0.420</td>\n",
              "</tr>\n",
              "<tr>\n",
              "  <th>REAL_ESTATE</th>        <td>   -0.3026</td> <td>    0.218</td> <td>   -1.388</td> <td> 0.165</td> <td>   -0.730</td> <td>    0.125</td>\n",
              "</tr>\n",
              "<tr>\n",
              "  <th>PROP_UNKN_NONE</th>     <td>    0.6092</td> <td>    0.276</td> <td>    2.210</td> <td> 0.027</td> <td>    0.069</td> <td>    1.149</td>\n",
              "</tr>\n",
              "<tr>\n",
              "  <th>OTHER_INSTALL</th>      <td>    0.3676</td> <td>    0.227</td> <td>    1.617</td> <td> 0.106</td> <td>   -0.078</td> <td>    0.813</td>\n",
              "</tr>\n",
              "<tr>\n",
              "  <th>FOREIGN</th>            <td>   -1.3419</td> <td>    0.788</td> <td>   -1.703</td> <td> 0.088</td> <td>   -2.886</td> <td>    0.202</td>\n",
              "</tr>\n",
              "<tr>\n",
              "  <th>CHK_ACCT_1</th>         <td>   -0.4334</td> <td>    0.220</td> <td>   -1.974</td> <td> 0.048</td> <td>   -0.864</td> <td>   -0.003</td>\n",
              "</tr>\n",
              "<tr>\n",
              "  <th>CHK_ACCT_2</th>         <td>   -1.0647</td> <td>    0.382</td> <td>   -2.785</td> <td> 0.005</td> <td>   -1.814</td> <td>   -0.315</td>\n",
              "</tr>\n",
              "<tr>\n",
              "  <th>CHK_ACCT_3</th>         <td>   -1.8853</td> <td>    0.248</td> <td>   -7.593</td> <td> 0.000</td> <td>   -2.372</td> <td>   -1.399</td>\n",
              "</tr>\n",
              "<tr>\n",
              "  <th>HISTORY_2</th>          <td>   -0.8187</td> <td>    0.315</td> <td>   -2.602</td> <td> 0.009</td> <td>   -1.435</td> <td>   -0.202</td>\n",
              "</tr>\n",
              "<tr>\n",
              "  <th>HISTORY_3</th>          <td>   -0.7209</td> <td>    0.406</td> <td>   -1.777</td> <td> 0.075</td> <td>   -1.516</td> <td>    0.074</td>\n",
              "</tr>\n",
              "<tr>\n",
              "  <th>HISTORY_4</th>          <td>   -1.1890</td> <td>    0.349</td> <td>   -3.411</td> <td> 0.001</td> <td>   -1.872</td> <td>   -0.506</td>\n",
              "</tr>\n",
              "<tr>\n",
              "  <th>SAV_ACCT_3</th>         <td>   -0.9851</td> <td>    0.516</td> <td>   -1.911</td> <td> 0.056</td> <td>   -1.996</td> <td>    0.025</td>\n",
              "</tr>\n",
              "<tr>\n",
              "  <th>SAV_ACCT_4</th>         <td>   -0.5365</td> <td>    0.266</td> <td>   -2.020</td> <td> 0.043</td> <td>   -1.057</td> <td>   -0.016</td>\n",
              "</tr>\n",
              "<tr>\n",
              "  <th>PRESENT_RESIDENT_2</th> <td>    0.3472</td> <td>    0.238</td> <td>    1.461</td> <td> 0.144</td> <td>   -0.119</td> <td>    0.813</td>\n",
              "</tr>\n",
              "<tr>\n",
              "  <th>PRESENT_RESIDENT_4</th> <td>    0.0670</td> <td>    0.226</td> <td>    0.297</td> <td> 0.766</td> <td>   -0.375</td> <td>    0.509</td>\n",
              "</tr>\n",
              "</table>"
            ],
            "text/latex": "\\begin{center}\n\\begin{tabular}{lclc}\n\\toprule\n\\textbf{Dep. Variable:}       &     DEFAULT      & \\textbf{  No. Observations:  } &      800    \\\\\n\\textbf{Model:}               &      Logit       & \\textbf{  Df Residuals:      } &      779    \\\\\n\\textbf{Method:}              &       MLE        & \\textbf{  Df Model:          } &       20    \\\\\n\\textbf{Date:}                & Wed, 27 Mar 2024 & \\textbf{  Pseudo R-squ.:     } &   0.2228    \\\\\n\\textbf{Time:}                &     06:16:38     & \\textbf{  Log-Likelihood:    } &   -379.15   \\\\\n\\textbf{converged:}           &       True       & \\textbf{  LL-Null:           } &   -487.84   \\\\\n\\textbf{Covariance Type:}     &    nonrobust     & \\textbf{  LLR p-value:       } & 3.956e-35   \\\\\n\\bottomrule\n\\end{tabular}\n\\begin{tabular}{lcccccc}\n                              & \\textbf{coef} & \\textbf{std err} & \\textbf{z} & \\textbf{P$> |$z$|$} & \\textbf{[0.025} & \\textbf{0.975]}  \\\\\n\\midrule\n\\textbf{const}                &       1.1224  &        0.376     &     2.983  &         0.003        &        0.385    &        1.860     \\\\\n\\textbf{DURATION}             &       0.1962  &        0.116     &     1.688  &         0.091        &       -0.032    &        0.424     \\\\\n\\textbf{AMOUNT}               &       0.3220  &        0.127     &     2.540  &         0.011        &        0.074    &        0.570     \\\\\n\\textbf{INSTALL\\_RATE}        &       0.3678  &        0.103     &     3.573  &         0.000        &        0.166    &        0.570     \\\\\n\\textbf{AGE}                  &      -0.1624  &        0.103     &    -1.583  &         0.113        &       -0.363    &        0.039     \\\\\n\\textbf{USED\\_CAR}            &      -1.1995  &        0.386     &    -3.110  &         0.002        &       -1.956    &       -0.443     \\\\\n\\textbf{MALE\\_SINGLE}         &      -0.7978  &        0.193     &    -4.137  &         0.000        &       -1.176    &       -0.420     \\\\\n\\textbf{REAL\\_ESTATE}         &      -0.3026  &        0.218     &    -1.388  &         0.165        &       -0.730    &        0.125     \\\\\n\\textbf{PROP\\_UNKN\\_NONE}     &       0.6092  &        0.276     &     2.210  &         0.027        &        0.069    &        1.149     \\\\\n\\textbf{OTHER\\_INSTALL}       &       0.3676  &        0.227     &     1.617  &         0.106        &       -0.078    &        0.813     \\\\\n\\textbf{FOREIGN}              &      -1.3419  &        0.788     &    -1.703  &         0.088        &       -2.886    &        0.202     \\\\\n\\textbf{CHK\\_ACCT\\_1}         &      -0.4334  &        0.220     &    -1.974  &         0.048        &       -0.864    &       -0.003     \\\\\n\\textbf{CHK\\_ACCT\\_2}         &      -1.0647  &        0.382     &    -2.785  &         0.005        &       -1.814    &       -0.315     \\\\\n\\textbf{CHK\\_ACCT\\_3}         &      -1.8853  &        0.248     &    -7.593  &         0.000        &       -2.372    &       -1.399     \\\\\n\\textbf{HISTORY\\_2}           &      -0.8187  &        0.315     &    -2.602  &         0.009        &       -1.435    &       -0.202     \\\\\n\\textbf{HISTORY\\_3}           &      -0.7209  &        0.406     &    -1.777  &         0.075        &       -1.516    &        0.074     \\\\\n\\textbf{HISTORY\\_4}           &      -1.1890  &        0.349     &    -3.411  &         0.001        &       -1.872    &       -0.506     \\\\\n\\textbf{SAV\\_ACCT\\_3}         &      -0.9851  &        0.516     &    -1.911  &         0.056        &       -1.996    &        0.025     \\\\\n\\textbf{SAV\\_ACCT\\_4}         &      -0.5365  &        0.266     &    -2.020  &         0.043        &       -1.057    &       -0.016     \\\\\n\\textbf{PRESENT\\_RESIDENT\\_2} &       0.3472  &        0.238     &     1.461  &         0.144        &       -0.119    &        0.813     \\\\\n\\textbf{PRESENT\\_RESIDENT\\_4} &       0.0670  &        0.226     &     0.297  &         0.766        &       -0.375    &        0.509     \\\\\n\\bottomrule\n\\end{tabular}\n%\\caption{Logit Regression Results}\n\\end{center}"
          },
          "metadata": {},
          "execution_count": 12
        }
      ]
    },
    {
      "cell_type": "markdown",
      "source": [
        "### FINAL SELECTION OF FEATURES"
      ],
      "metadata": {
        "id": "wEJZix7zlV1i"
      }
    },
    {
      "cell_type": "code",
      "source": [
        "final_features = [\n",
        "    'DURATION', 'AMOUNT', 'INSTALL_RATE', 'AGE', 'USED_CAR', 'MALE_SINGLE',\n",
        "    'REAL_ESTATE', 'PROP_UNKN_NONE', 'OTHER_INSTALL', 'FOREIGN', 'CHK_ACCT_1',\n",
        "    'CHK_ACCT_2', 'CHK_ACCT_3', 'HISTORY_2', 'HISTORY_3', 'HISTORY_4',\n",
        "    'SAV_ACCT_3', 'SAV_ACCT_4', 'PRESENT_RESIDENT_2'\n",
        "]\n",
        "\n",
        "final_data = data_with_dummies[final_features + ['DEFAULT']]\n",
        "\n",
        "y_final = final_data['DEFAULT']\n",
        "X_final = final_data.drop('DEFAULT', axis=1)\n",
        "\n",
        "X_final = sm.add_constant(X_final)\n",
        "\n",
        "logit_model_final = sm.Logit(y_final, X_final)\n",
        "logit_result_final = logit_model_final.fit()\n",
        "\n",
        "logit_summary_final = logit_result_final.summary()\n",
        "logit_summary_final\n"
      ],
      "metadata": {
        "colab": {
          "base_uri": "https://localhost:8080/",
          "height": 690
        },
        "id": "FojsK2jnWohk",
        "outputId": "d4a7a2ef-80d2-4f0c-d636-908ce050dc20"
      },
      "execution_count": null,
      "outputs": [
        {
          "output_type": "stream",
          "name": "stdout",
          "text": [
            "Optimization terminated successfully.\n",
            "         Current function value: 0.473987\n",
            "         Iterations 7\n"
          ]
        },
        {
          "output_type": "execute_result",
          "data": {
            "text/plain": [
              "<class 'statsmodels.iolib.summary.Summary'>\n",
              "\"\"\"\n",
              "                           Logit Regression Results                           \n",
              "==============================================================================\n",
              "Dep. Variable:                DEFAULT   No. Observations:                  800\n",
              "Model:                          Logit   Df Residuals:                      780\n",
              "Method:                           MLE   Df Model:                           19\n",
              "Date:                Wed, 27 Mar 2024   Pseudo R-squ.:                  0.2227\n",
              "Time:                        06:16:39   Log-Likelihood:                -379.19\n",
              "converged:                       True   LL-Null:                       -487.84\n",
              "Covariance Type:            nonrobust   LLR p-value:                 1.196e-35\n",
              "======================================================================================\n",
              "                         coef    std err          z      P>|z|      [0.025      0.975]\n",
              "--------------------------------------------------------------------------------------\n",
              "const                  1.1618      0.352      3.298      0.001       0.471       1.852\n",
              "DURATION               0.1978      0.116      1.704      0.088      -0.030       0.425\n",
              "AMOUNT                 0.3219      0.127      2.539      0.011       0.073       0.570\n",
              "INSTALL_RATE           0.3679      0.103      3.577      0.000       0.166       0.570\n",
              "AGE                   -0.1591      0.102     -1.560      0.119      -0.359       0.041\n",
              "USED_CAR              -1.1906      0.384     -3.099      0.002      -1.944      -0.437\n",
              "MALE_SINGLE           -0.8000      0.193     -4.152      0.000      -1.178      -0.422\n",
              "REAL_ESTATE           -0.3046      0.218     -1.398      0.162      -0.732       0.122\n",
              "PROP_UNKN_NONE         0.6184      0.274      2.257      0.024       0.081       1.155\n",
              "OTHER_INSTALL          0.3637      0.227      1.604      0.109      -0.081       0.808\n",
              "FOREIGN               -1.3436      0.787     -1.707      0.088      -2.887       0.199\n",
              "CHK_ACCT_1            -0.4367      0.219     -1.992      0.046      -0.866      -0.007\n",
              "CHK_ACCT_2            -1.0654      0.382     -2.785      0.005      -1.815      -0.316\n",
              "CHK_ACCT_3            -1.8863      0.248     -7.595      0.000      -2.373      -1.400\n",
              "HISTORY_2             -0.8196      0.315     -2.605      0.009      -1.436      -0.203\n",
              "HISTORY_3             -0.7211      0.406     -1.778      0.075      -1.516       0.074\n",
              "HISTORY_4             -1.1882      0.349     -3.410      0.001      -1.871      -0.505\n",
              "SAV_ACCT_3            -0.9884      0.515     -1.919      0.055      -1.998       0.021\n",
              "SAV_ACCT_4            -0.5310      0.265     -2.004      0.045      -1.050      -0.012\n",
              "PRESENT_RESIDENT_2     0.3114      0.205      1.522      0.128      -0.089       0.712\n",
              "======================================================================================\n",
              "\"\"\""
            ],
            "text/html": [
              "<table class=\"simpletable\">\n",
              "<caption>Logit Regression Results</caption>\n",
              "<tr>\n",
              "  <th>Dep. Variable:</th>        <td>DEFAULT</td>     <th>  No. Observations:  </th>  <td>   800</td>  \n",
              "</tr>\n",
              "<tr>\n",
              "  <th>Model:</th>                 <td>Logit</td>      <th>  Df Residuals:      </th>  <td>   780</td>  \n",
              "</tr>\n",
              "<tr>\n",
              "  <th>Method:</th>                 <td>MLE</td>       <th>  Df Model:          </th>  <td>    19</td>  \n",
              "</tr>\n",
              "<tr>\n",
              "  <th>Date:</th>            <td>Wed, 27 Mar 2024</td> <th>  Pseudo R-squ.:     </th>  <td>0.2227</td>  \n",
              "</tr>\n",
              "<tr>\n",
              "  <th>Time:</th>                <td>06:16:39</td>     <th>  Log-Likelihood:    </th> <td> -379.19</td> \n",
              "</tr>\n",
              "<tr>\n",
              "  <th>converged:</th>             <td>True</td>       <th>  LL-Null:           </th> <td> -487.84</td> \n",
              "</tr>\n",
              "<tr>\n",
              "  <th>Covariance Type:</th>     <td>nonrobust</td>    <th>  LLR p-value:       </th> <td>1.196e-35</td>\n",
              "</tr>\n",
              "</table>\n",
              "<table class=\"simpletable\">\n",
              "<tr>\n",
              "           <td></td>             <th>coef</th>     <th>std err</th>      <th>z</th>      <th>P>|z|</th>  <th>[0.025</th>    <th>0.975]</th>  \n",
              "</tr>\n",
              "<tr>\n",
              "  <th>const</th>              <td>    1.1618</td> <td>    0.352</td> <td>    3.298</td> <td> 0.001</td> <td>    0.471</td> <td>    1.852</td>\n",
              "</tr>\n",
              "<tr>\n",
              "  <th>DURATION</th>           <td>    0.1978</td> <td>    0.116</td> <td>    1.704</td> <td> 0.088</td> <td>   -0.030</td> <td>    0.425</td>\n",
              "</tr>\n",
              "<tr>\n",
              "  <th>AMOUNT</th>             <td>    0.3219</td> <td>    0.127</td> <td>    2.539</td> <td> 0.011</td> <td>    0.073</td> <td>    0.570</td>\n",
              "</tr>\n",
              "<tr>\n",
              "  <th>INSTALL_RATE</th>       <td>    0.3679</td> <td>    0.103</td> <td>    3.577</td> <td> 0.000</td> <td>    0.166</td> <td>    0.570</td>\n",
              "</tr>\n",
              "<tr>\n",
              "  <th>AGE</th>                <td>   -0.1591</td> <td>    0.102</td> <td>   -1.560</td> <td> 0.119</td> <td>   -0.359</td> <td>    0.041</td>\n",
              "</tr>\n",
              "<tr>\n",
              "  <th>USED_CAR</th>           <td>   -1.1906</td> <td>    0.384</td> <td>   -3.099</td> <td> 0.002</td> <td>   -1.944</td> <td>   -0.437</td>\n",
              "</tr>\n",
              "<tr>\n",
              "  <th>MALE_SINGLE</th>        <td>   -0.8000</td> <td>    0.193</td> <td>   -4.152</td> <td> 0.000</td> <td>   -1.178</td> <td>   -0.422</td>\n",
              "</tr>\n",
              "<tr>\n",
              "  <th>REAL_ESTATE</th>        <td>   -0.3046</td> <td>    0.218</td> <td>   -1.398</td> <td> 0.162</td> <td>   -0.732</td> <td>    0.122</td>\n",
              "</tr>\n",
              "<tr>\n",
              "  <th>PROP_UNKN_NONE</th>     <td>    0.6184</td> <td>    0.274</td> <td>    2.257</td> <td> 0.024</td> <td>    0.081</td> <td>    1.155</td>\n",
              "</tr>\n",
              "<tr>\n",
              "  <th>OTHER_INSTALL</th>      <td>    0.3637</td> <td>    0.227</td> <td>    1.604</td> <td> 0.109</td> <td>   -0.081</td> <td>    0.808</td>\n",
              "</tr>\n",
              "<tr>\n",
              "  <th>FOREIGN</th>            <td>   -1.3436</td> <td>    0.787</td> <td>   -1.707</td> <td> 0.088</td> <td>   -2.887</td> <td>    0.199</td>\n",
              "</tr>\n",
              "<tr>\n",
              "  <th>CHK_ACCT_1</th>         <td>   -0.4367</td> <td>    0.219</td> <td>   -1.992</td> <td> 0.046</td> <td>   -0.866</td> <td>   -0.007</td>\n",
              "</tr>\n",
              "<tr>\n",
              "  <th>CHK_ACCT_2</th>         <td>   -1.0654</td> <td>    0.382</td> <td>   -2.785</td> <td> 0.005</td> <td>   -1.815</td> <td>   -0.316</td>\n",
              "</tr>\n",
              "<tr>\n",
              "  <th>CHK_ACCT_3</th>         <td>   -1.8863</td> <td>    0.248</td> <td>   -7.595</td> <td> 0.000</td> <td>   -2.373</td> <td>   -1.400</td>\n",
              "</tr>\n",
              "<tr>\n",
              "  <th>HISTORY_2</th>          <td>   -0.8196</td> <td>    0.315</td> <td>   -2.605</td> <td> 0.009</td> <td>   -1.436</td> <td>   -0.203</td>\n",
              "</tr>\n",
              "<tr>\n",
              "  <th>HISTORY_3</th>          <td>   -0.7211</td> <td>    0.406</td> <td>   -1.778</td> <td> 0.075</td> <td>   -1.516</td> <td>    0.074</td>\n",
              "</tr>\n",
              "<tr>\n",
              "  <th>HISTORY_4</th>          <td>   -1.1882</td> <td>    0.349</td> <td>   -3.410</td> <td> 0.001</td> <td>   -1.871</td> <td>   -0.505</td>\n",
              "</tr>\n",
              "<tr>\n",
              "  <th>SAV_ACCT_3</th>         <td>   -0.9884</td> <td>    0.515</td> <td>   -1.919</td> <td> 0.055</td> <td>   -1.998</td> <td>    0.021</td>\n",
              "</tr>\n",
              "<tr>\n",
              "  <th>SAV_ACCT_4</th>         <td>   -0.5310</td> <td>    0.265</td> <td>   -2.004</td> <td> 0.045</td> <td>   -1.050</td> <td>   -0.012</td>\n",
              "</tr>\n",
              "<tr>\n",
              "  <th>PRESENT_RESIDENT_2</th> <td>    0.3114</td> <td>    0.205</td> <td>    1.522</td> <td> 0.128</td> <td>   -0.089</td> <td>    0.712</td>\n",
              "</tr>\n",
              "</table>"
            ],
            "text/latex": "\\begin{center}\n\\begin{tabular}{lclc}\n\\toprule\n\\textbf{Dep. Variable:}       &     DEFAULT      & \\textbf{  No. Observations:  } &      800    \\\\\n\\textbf{Model:}               &      Logit       & \\textbf{  Df Residuals:      } &      780    \\\\\n\\textbf{Method:}              &       MLE        & \\textbf{  Df Model:          } &       19    \\\\\n\\textbf{Date:}                & Wed, 27 Mar 2024 & \\textbf{  Pseudo R-squ.:     } &   0.2227    \\\\\n\\textbf{Time:}                &     06:16:39     & \\textbf{  Log-Likelihood:    } &   -379.19   \\\\\n\\textbf{converged:}           &       True       & \\textbf{  LL-Null:           } &   -487.84   \\\\\n\\textbf{Covariance Type:}     &    nonrobust     & \\textbf{  LLR p-value:       } & 1.196e-35   \\\\\n\\bottomrule\n\\end{tabular}\n\\begin{tabular}{lcccccc}\n                              & \\textbf{coef} & \\textbf{std err} & \\textbf{z} & \\textbf{P$> |$z$|$} & \\textbf{[0.025} & \\textbf{0.975]}  \\\\\n\\midrule\n\\textbf{const}                &       1.1618  &        0.352     &     3.298  &         0.001        &        0.471    &        1.852     \\\\\n\\textbf{DURATION}             &       0.1978  &        0.116     &     1.704  &         0.088        &       -0.030    &        0.425     \\\\\n\\textbf{AMOUNT}               &       0.3219  &        0.127     &     2.539  &         0.011        &        0.073    &        0.570     \\\\\n\\textbf{INSTALL\\_RATE}        &       0.3679  &        0.103     &     3.577  &         0.000        &        0.166    &        0.570     \\\\\n\\textbf{AGE}                  &      -0.1591  &        0.102     &    -1.560  &         0.119        &       -0.359    &        0.041     \\\\\n\\textbf{USED\\_CAR}            &      -1.1906  &        0.384     &    -3.099  &         0.002        &       -1.944    &       -0.437     \\\\\n\\textbf{MALE\\_SINGLE}         &      -0.8000  &        0.193     &    -4.152  &         0.000        &       -1.178    &       -0.422     \\\\\n\\textbf{REAL\\_ESTATE}         &      -0.3046  &        0.218     &    -1.398  &         0.162        &       -0.732    &        0.122     \\\\\n\\textbf{PROP\\_UNKN\\_NONE}     &       0.6184  &        0.274     &     2.257  &         0.024        &        0.081    &        1.155     \\\\\n\\textbf{OTHER\\_INSTALL}       &       0.3637  &        0.227     &     1.604  &         0.109        &       -0.081    &        0.808     \\\\\n\\textbf{FOREIGN}              &      -1.3436  &        0.787     &    -1.707  &         0.088        &       -2.887    &        0.199     \\\\\n\\textbf{CHK\\_ACCT\\_1}         &      -0.4367  &        0.219     &    -1.992  &         0.046        &       -0.866    &       -0.007     \\\\\n\\textbf{CHK\\_ACCT\\_2}         &      -1.0654  &        0.382     &    -2.785  &         0.005        &       -1.815    &       -0.316     \\\\\n\\textbf{CHK\\_ACCT\\_3}         &      -1.8863  &        0.248     &    -7.595  &         0.000        &       -2.373    &       -1.400     \\\\\n\\textbf{HISTORY\\_2}           &      -0.8196  &        0.315     &    -2.605  &         0.009        &       -1.436    &       -0.203     \\\\\n\\textbf{HISTORY\\_3}           &      -0.7211  &        0.406     &    -1.778  &         0.075        &       -1.516    &        0.074     \\\\\n\\textbf{HISTORY\\_4}           &      -1.1882  &        0.349     &    -3.410  &         0.001        &       -1.871    &       -0.505     \\\\\n\\textbf{SAV\\_ACCT\\_3}         &      -0.9884  &        0.515     &    -1.919  &         0.055        &       -1.998    &        0.021     \\\\\n\\textbf{SAV\\_ACCT\\_4}         &      -0.5310  &        0.265     &    -2.004  &         0.045        &       -1.050    &       -0.012     \\\\\n\\textbf{PRESENT\\_RESIDENT\\_2} &       0.3114  &        0.205     &     1.522  &         0.128        &       -0.089    &        0.712     \\\\\n\\bottomrule\n\\end{tabular}\n%\\caption{Logit Regression Results}\n\\end{center}"
          },
          "metadata": {},
          "execution_count": 13
        }
      ]
    },
    {
      "cell_type": "markdown",
      "source": [
        "### DOUBLE CHECKING NEW DATAFRAME"
      ],
      "metadata": {
        "id": "6W_x5wQJlqVg"
      }
    },
    {
      "cell_type": "code",
      "source": [
        "df_analysis = data_with_dummies[final_features].copy()\n",
        "\n",
        "df_analysis.head()\n"
      ],
      "metadata": {
        "colab": {
          "base_uri": "https://localhost:8080/",
          "height": 226
        },
        "id": "U02VpbLDZMtn",
        "outputId": "ad6b7d38-6b99-420a-c971-31f48610f2bd"
      },
      "execution_count": null,
      "outputs": [
        {
          "output_type": "execute_result",
          "data": {
            "text/plain": [
              "   DURATION    AMOUNT  INSTALL_RATE       AGE  USED_CAR  MALE_SINGLE  \\\n",
              "0 -1.205988 -0.740389      0.916363  2.756115         0            1   \n",
              "1  2.251158  1.010641     -0.856528 -1.169509         0            0   \n",
              "2 -0.712110 -0.400949     -0.856528  1.185866         0            1   \n",
              "3  1.757280  1.717718     -0.856528  0.836921         0            1   \n",
              "4  0.275646  0.614810      0.029918  1.534810         0            1   \n",
              "\n",
              "   REAL_ESTATE  PROP_UNKN_NONE  OTHER_INSTALL  FOREIGN  CHK_ACCT_1  \\\n",
              "0            1               0              0        0           0   \n",
              "1            1               0              0        0           1   \n",
              "2            1               0              0        0           0   \n",
              "3            0               0              0        0           0   \n",
              "4            0               1              0        0           0   \n",
              "\n",
              "   CHK_ACCT_2  CHK_ACCT_3  HISTORY_2  HISTORY_3  HISTORY_4  SAV_ACCT_3  \\\n",
              "0           0           0          0          0          1           0   \n",
              "1           0           0          1          0          0           0   \n",
              "2           0           1          0          0          1           0   \n",
              "3           0           0          1          0          0           0   \n",
              "4           0           0          0          1          0           0   \n",
              "\n",
              "   SAV_ACCT_4  PRESENT_RESIDENT_2  \n",
              "0           1                   0  \n",
              "1           0                   1  \n",
              "2           0                   0  \n",
              "3           0                   0  \n",
              "4           0                   0  "
            ],
            "text/html": [
              "\n",
              "  <div id=\"df-e747cb41-afa8-4368-96fe-59928631aa75\" class=\"colab-df-container\">\n",
              "    <div>\n",
              "<style scoped>\n",
              "    .dataframe tbody tr th:only-of-type {\n",
              "        vertical-align: middle;\n",
              "    }\n",
              "\n",
              "    .dataframe tbody tr th {\n",
              "        vertical-align: top;\n",
              "    }\n",
              "\n",
              "    .dataframe thead th {\n",
              "        text-align: right;\n",
              "    }\n",
              "</style>\n",
              "<table border=\"1\" class=\"dataframe\">\n",
              "  <thead>\n",
              "    <tr style=\"text-align: right;\">\n",
              "      <th></th>\n",
              "      <th>DURATION</th>\n",
              "      <th>AMOUNT</th>\n",
              "      <th>INSTALL_RATE</th>\n",
              "      <th>AGE</th>\n",
              "      <th>USED_CAR</th>\n",
              "      <th>MALE_SINGLE</th>\n",
              "      <th>REAL_ESTATE</th>\n",
              "      <th>PROP_UNKN_NONE</th>\n",
              "      <th>OTHER_INSTALL</th>\n",
              "      <th>FOREIGN</th>\n",
              "      <th>CHK_ACCT_1</th>\n",
              "      <th>CHK_ACCT_2</th>\n",
              "      <th>CHK_ACCT_3</th>\n",
              "      <th>HISTORY_2</th>\n",
              "      <th>HISTORY_3</th>\n",
              "      <th>HISTORY_4</th>\n",
              "      <th>SAV_ACCT_3</th>\n",
              "      <th>SAV_ACCT_4</th>\n",
              "      <th>PRESENT_RESIDENT_2</th>\n",
              "    </tr>\n",
              "  </thead>\n",
              "  <tbody>\n",
              "    <tr>\n",
              "      <th>0</th>\n",
              "      <td>-1.205988</td>\n",
              "      <td>-0.740389</td>\n",
              "      <td>0.916363</td>\n",
              "      <td>2.756115</td>\n",
              "      <td>0</td>\n",
              "      <td>1</td>\n",
              "      <td>1</td>\n",
              "      <td>0</td>\n",
              "      <td>0</td>\n",
              "      <td>0</td>\n",
              "      <td>0</td>\n",
              "      <td>0</td>\n",
              "      <td>0</td>\n",
              "      <td>0</td>\n",
              "      <td>0</td>\n",
              "      <td>1</td>\n",
              "      <td>0</td>\n",
              "      <td>1</td>\n",
              "      <td>0</td>\n",
              "    </tr>\n",
              "    <tr>\n",
              "      <th>1</th>\n",
              "      <td>2.251158</td>\n",
              "      <td>1.010641</td>\n",
              "      <td>-0.856528</td>\n",
              "      <td>-1.169509</td>\n",
              "      <td>0</td>\n",
              "      <td>0</td>\n",
              "      <td>1</td>\n",
              "      <td>0</td>\n",
              "      <td>0</td>\n",
              "      <td>0</td>\n",
              "      <td>1</td>\n",
              "      <td>0</td>\n",
              "      <td>0</td>\n",
              "      <td>1</td>\n",
              "      <td>0</td>\n",
              "      <td>0</td>\n",
              "      <td>0</td>\n",
              "      <td>0</td>\n",
              "      <td>1</td>\n",
              "    </tr>\n",
              "    <tr>\n",
              "      <th>2</th>\n",
              "      <td>-0.712110</td>\n",
              "      <td>-0.400949</td>\n",
              "      <td>-0.856528</td>\n",
              "      <td>1.185866</td>\n",
              "      <td>0</td>\n",
              "      <td>1</td>\n",
              "      <td>1</td>\n",
              "      <td>0</td>\n",
              "      <td>0</td>\n",
              "      <td>0</td>\n",
              "      <td>0</td>\n",
              "      <td>0</td>\n",
              "      <td>1</td>\n",
              "      <td>0</td>\n",
              "      <td>0</td>\n",
              "      <td>1</td>\n",
              "      <td>0</td>\n",
              "      <td>0</td>\n",
              "      <td>0</td>\n",
              "    </tr>\n",
              "    <tr>\n",
              "      <th>3</th>\n",
              "      <td>1.757280</td>\n",
              "      <td>1.717718</td>\n",
              "      <td>-0.856528</td>\n",
              "      <td>0.836921</td>\n",
              "      <td>0</td>\n",
              "      <td>1</td>\n",
              "      <td>0</td>\n",
              "      <td>0</td>\n",
              "      <td>0</td>\n",
              "      <td>0</td>\n",
              "      <td>0</td>\n",
              "      <td>0</td>\n",
              "      <td>0</td>\n",
              "      <td>1</td>\n",
              "      <td>0</td>\n",
              "      <td>0</td>\n",
              "      <td>0</td>\n",
              "      <td>0</td>\n",
              "      <td>0</td>\n",
              "    </tr>\n",
              "    <tr>\n",
              "      <th>4</th>\n",
              "      <td>0.275646</td>\n",
              "      <td>0.614810</td>\n",
              "      <td>0.029918</td>\n",
              "      <td>1.534810</td>\n",
              "      <td>0</td>\n",
              "      <td>1</td>\n",
              "      <td>0</td>\n",
              "      <td>1</td>\n",
              "      <td>0</td>\n",
              "      <td>0</td>\n",
              "      <td>0</td>\n",
              "      <td>0</td>\n",
              "      <td>0</td>\n",
              "      <td>0</td>\n",
              "      <td>1</td>\n",
              "      <td>0</td>\n",
              "      <td>0</td>\n",
              "      <td>0</td>\n",
              "      <td>0</td>\n",
              "    </tr>\n",
              "  </tbody>\n",
              "</table>\n",
              "</div>\n",
              "    <div class=\"colab-df-buttons\">\n",
              "\n",
              "  <div class=\"colab-df-container\">\n",
              "    <button class=\"colab-df-convert\" onclick=\"convertToInteractive('df-e747cb41-afa8-4368-96fe-59928631aa75')\"\n",
              "            title=\"Convert this dataframe to an interactive table.\"\n",
              "            style=\"display:none;\">\n",
              "\n",
              "  <svg xmlns=\"http://www.w3.org/2000/svg\" height=\"24px\" viewBox=\"0 -960 960 960\">\n",
              "    <path d=\"M120-120v-720h720v720H120Zm60-500h600v-160H180v160Zm220 220h160v-160H400v160Zm0 220h160v-160H400v160ZM180-400h160v-160H180v160Zm440 0h160v-160H620v160ZM180-180h160v-160H180v160Zm440 0h160v-160H620v160Z\"/>\n",
              "  </svg>\n",
              "    </button>\n",
              "\n",
              "  <style>\n",
              "    .colab-df-container {\n",
              "      display:flex;\n",
              "      gap: 12px;\n",
              "    }\n",
              "\n",
              "    .colab-df-convert {\n",
              "      background-color: #E8F0FE;\n",
              "      border: none;\n",
              "      border-radius: 50%;\n",
              "      cursor: pointer;\n",
              "      display: none;\n",
              "      fill: #1967D2;\n",
              "      height: 32px;\n",
              "      padding: 0 0 0 0;\n",
              "      width: 32px;\n",
              "    }\n",
              "\n",
              "    .colab-df-convert:hover {\n",
              "      background-color: #E2EBFA;\n",
              "      box-shadow: 0px 1px 2px rgba(60, 64, 67, 0.3), 0px 1px 3px 1px rgba(60, 64, 67, 0.15);\n",
              "      fill: #174EA6;\n",
              "    }\n",
              "\n",
              "    .colab-df-buttons div {\n",
              "      margin-bottom: 4px;\n",
              "    }\n",
              "\n",
              "    [theme=dark] .colab-df-convert {\n",
              "      background-color: #3B4455;\n",
              "      fill: #D2E3FC;\n",
              "    }\n",
              "\n",
              "    [theme=dark] .colab-df-convert:hover {\n",
              "      background-color: #434B5C;\n",
              "      box-shadow: 0px 1px 3px 1px rgba(0, 0, 0, 0.15);\n",
              "      filter: drop-shadow(0px 1px 2px rgba(0, 0, 0, 0.3));\n",
              "      fill: #FFFFFF;\n",
              "    }\n",
              "  </style>\n",
              "\n",
              "    <script>\n",
              "      const buttonEl =\n",
              "        document.querySelector('#df-e747cb41-afa8-4368-96fe-59928631aa75 button.colab-df-convert');\n",
              "      buttonEl.style.display =\n",
              "        google.colab.kernel.accessAllowed ? 'block' : 'none';\n",
              "\n",
              "      async function convertToInteractive(key) {\n",
              "        const element = document.querySelector('#df-e747cb41-afa8-4368-96fe-59928631aa75');\n",
              "        const dataTable =\n",
              "          await google.colab.kernel.invokeFunction('convertToInteractive',\n",
              "                                                    [key], {});\n",
              "        if (!dataTable) return;\n",
              "\n",
              "        const docLinkHtml = 'Like what you see? Visit the ' +\n",
              "          '<a target=\"_blank\" href=https://colab.research.google.com/notebooks/data_table.ipynb>data table notebook</a>'\n",
              "          + ' to learn more about interactive tables.';\n",
              "        element.innerHTML = '';\n",
              "        dataTable['output_type'] = 'display_data';\n",
              "        await google.colab.output.renderOutput(dataTable, element);\n",
              "        const docLink = document.createElement('div');\n",
              "        docLink.innerHTML = docLinkHtml;\n",
              "        element.appendChild(docLink);\n",
              "      }\n",
              "    </script>\n",
              "  </div>\n",
              "\n",
              "\n",
              "<div id=\"df-7e26e6d3-25a6-430b-af62-f810a0bbc1bf\">\n",
              "  <button class=\"colab-df-quickchart\" onclick=\"quickchart('df-7e26e6d3-25a6-430b-af62-f810a0bbc1bf')\"\n",
              "            title=\"Suggest charts\"\n",
              "            style=\"display:none;\">\n",
              "\n",
              "<svg xmlns=\"http://www.w3.org/2000/svg\" height=\"24px\"viewBox=\"0 0 24 24\"\n",
              "     width=\"24px\">\n",
              "    <g>\n",
              "        <path d=\"M19 3H5c-1.1 0-2 .9-2 2v14c0 1.1.9 2 2 2h14c1.1 0 2-.9 2-2V5c0-1.1-.9-2-2-2zM9 17H7v-7h2v7zm4 0h-2V7h2v10zm4 0h-2v-4h2v4z\"/>\n",
              "    </g>\n",
              "</svg>\n",
              "  </button>\n",
              "\n",
              "<style>\n",
              "  .colab-df-quickchart {\n",
              "      --bg-color: #E8F0FE;\n",
              "      --fill-color: #1967D2;\n",
              "      --hover-bg-color: #E2EBFA;\n",
              "      --hover-fill-color: #174EA6;\n",
              "      --disabled-fill-color: #AAA;\n",
              "      --disabled-bg-color: #DDD;\n",
              "  }\n",
              "\n",
              "  [theme=dark] .colab-df-quickchart {\n",
              "      --bg-color: #3B4455;\n",
              "      --fill-color: #D2E3FC;\n",
              "      --hover-bg-color: #434B5C;\n",
              "      --hover-fill-color: #FFFFFF;\n",
              "      --disabled-bg-color: #3B4455;\n",
              "      --disabled-fill-color: #666;\n",
              "  }\n",
              "\n",
              "  .colab-df-quickchart {\n",
              "    background-color: var(--bg-color);\n",
              "    border: none;\n",
              "    border-radius: 50%;\n",
              "    cursor: pointer;\n",
              "    display: none;\n",
              "    fill: var(--fill-color);\n",
              "    height: 32px;\n",
              "    padding: 0;\n",
              "    width: 32px;\n",
              "  }\n",
              "\n",
              "  .colab-df-quickchart:hover {\n",
              "    background-color: var(--hover-bg-color);\n",
              "    box-shadow: 0 1px 2px rgba(60, 64, 67, 0.3), 0 1px 3px 1px rgba(60, 64, 67, 0.15);\n",
              "    fill: var(--button-hover-fill-color);\n",
              "  }\n",
              "\n",
              "  .colab-df-quickchart-complete:disabled,\n",
              "  .colab-df-quickchart-complete:disabled:hover {\n",
              "    background-color: var(--disabled-bg-color);\n",
              "    fill: var(--disabled-fill-color);\n",
              "    box-shadow: none;\n",
              "  }\n",
              "\n",
              "  .colab-df-spinner {\n",
              "    border: 2px solid var(--fill-color);\n",
              "    border-color: transparent;\n",
              "    border-bottom-color: var(--fill-color);\n",
              "    animation:\n",
              "      spin 1s steps(1) infinite;\n",
              "  }\n",
              "\n",
              "  @keyframes spin {\n",
              "    0% {\n",
              "      border-color: transparent;\n",
              "      border-bottom-color: var(--fill-color);\n",
              "      border-left-color: var(--fill-color);\n",
              "    }\n",
              "    20% {\n",
              "      border-color: transparent;\n",
              "      border-left-color: var(--fill-color);\n",
              "      border-top-color: var(--fill-color);\n",
              "    }\n",
              "    30% {\n",
              "      border-color: transparent;\n",
              "      border-left-color: var(--fill-color);\n",
              "      border-top-color: var(--fill-color);\n",
              "      border-right-color: var(--fill-color);\n",
              "    }\n",
              "    40% {\n",
              "      border-color: transparent;\n",
              "      border-right-color: var(--fill-color);\n",
              "      border-top-color: var(--fill-color);\n",
              "    }\n",
              "    60% {\n",
              "      border-color: transparent;\n",
              "      border-right-color: var(--fill-color);\n",
              "    }\n",
              "    80% {\n",
              "      border-color: transparent;\n",
              "      border-right-color: var(--fill-color);\n",
              "      border-bottom-color: var(--fill-color);\n",
              "    }\n",
              "    90% {\n",
              "      border-color: transparent;\n",
              "      border-bottom-color: var(--fill-color);\n",
              "    }\n",
              "  }\n",
              "</style>\n",
              "\n",
              "  <script>\n",
              "    async function quickchart(key) {\n",
              "      const quickchartButtonEl =\n",
              "        document.querySelector('#' + key + ' button');\n",
              "      quickchartButtonEl.disabled = true;  // To prevent multiple clicks.\n",
              "      quickchartButtonEl.classList.add('colab-df-spinner');\n",
              "      try {\n",
              "        const charts = await google.colab.kernel.invokeFunction(\n",
              "            'suggestCharts', [key], {});\n",
              "      } catch (error) {\n",
              "        console.error('Error during call to suggestCharts:', error);\n",
              "      }\n",
              "      quickchartButtonEl.classList.remove('colab-df-spinner');\n",
              "      quickchartButtonEl.classList.add('colab-df-quickchart-complete');\n",
              "    }\n",
              "    (() => {\n",
              "      let quickchartButtonEl =\n",
              "        document.querySelector('#df-7e26e6d3-25a6-430b-af62-f810a0bbc1bf button');\n",
              "      quickchartButtonEl.style.display =\n",
              "        google.colab.kernel.accessAllowed ? 'block' : 'none';\n",
              "    })();\n",
              "  </script>\n",
              "</div>\n",
              "\n",
              "    </div>\n",
              "  </div>\n"
            ],
            "application/vnd.google.colaboratory.intrinsic+json": {
              "type": "dataframe",
              "variable_name": "df_analysis",
              "summary": "{\n  \"name\": \"df_analysis\",\n  \"rows\": 800,\n  \"fields\": [\n    {\n      \"column\": \"DURATION\",\n      \"properties\": {\n        \"dtype\": \"number\",\n        \"std\": 1.0006255865485199,\n        \"min\": -1.3706142752365686,\n        \"max\": 4.226669455179265,\n        \"num_unique_values\": 33,\n        \"samples\": [\n          4.226669455179265,\n          0.5225846335805518,\n          0.11101965340291692\n        ],\n        \"semantic_type\": \"\",\n        \"description\": \"\"\n      }\n    },\n    {\n      \"column\": \"AMOUNT\",\n      \"properties\": {\n        \"dtype\": \"number\",\n        \"std\": 1.0006255865485199,\n        \"min\": -1.0769006718582064,\n        \"max\": 4.670155614235416,\n        \"num_unique_values\": 753,\n        \"samples\": [\n          -0.7030399220588059,\n          -0.12046161360547994,\n          -0.6986458681924075\n        ],\n        \"semantic_type\": \"\",\n        \"description\": \"\"\n      }\n    },\n    {\n      \"column\": \"INSTALL_RATE\",\n      \"properties\": {\n        \"dtype\": \"number\",\n        \"std\": 1.0006255865485199,\n        \"min\": -1.7429740044956177,\n        \"max\": 0.9163633195917836,\n        \"num_unique_values\": 4,\n        \"samples\": [\n          -0.8565282297998172,\n          -1.7429740044956177,\n          0.9163633195917836\n        ],\n        \"semantic_type\": \"\",\n        \"description\": \"\"\n      }\n    },\n    {\n      \"column\": \"AGE\",\n      \"properties\": {\n        \"dtype\": \"number\",\n        \"std\": 1.0006255865485199,\n        \"min\": -1.431217078592778,\n        \"max\": 3.4540038830039044,\n        \"num_unique_values\": 53,\n        \"samples\": [\n          -0.12267574959366669,\n          0.22626860480609634,\n          1.709282111005089\n        ],\n        \"semantic_type\": \"\",\n        \"description\": \"\"\n      }\n    },\n    {\n      \"column\": \"USED_CAR\",\n      \"properties\": {\n        \"dtype\": \"number\",\n        \"std\": 0,\n        \"min\": 0,\n        \"max\": 1,\n        \"num_unique_values\": 2,\n        \"samples\": [\n          1,\n          0\n        ],\n        \"semantic_type\": \"\",\n        \"description\": \"\"\n      }\n    },\n    {\n      \"column\": \"MALE_SINGLE\",\n      \"properties\": {\n        \"dtype\": \"number\",\n        \"std\": 0,\n        \"min\": 0,\n        \"max\": 1,\n        \"num_unique_values\": 2,\n        \"samples\": [\n          0,\n          1\n        ],\n        \"semantic_type\": \"\",\n        \"description\": \"\"\n      }\n    },\n    {\n      \"column\": \"REAL_ESTATE\",\n      \"properties\": {\n        \"dtype\": \"number\",\n        \"std\": 0,\n        \"min\": 0,\n        \"max\": 1,\n        \"num_unique_values\": 2,\n        \"samples\": [\n          0,\n          1\n        ],\n        \"semantic_type\": \"\",\n        \"description\": \"\"\n      }\n    },\n    {\n      \"column\": \"PROP_UNKN_NONE\",\n      \"properties\": {\n        \"dtype\": \"number\",\n        \"std\": 0,\n        \"min\": 0,\n        \"max\": 1,\n        \"num_unique_values\": 2,\n        \"samples\": [\n          1,\n          0\n        ],\n        \"semantic_type\": \"\",\n        \"description\": \"\"\n      }\n    },\n    {\n      \"column\": \"OTHER_INSTALL\",\n      \"properties\": {\n        \"dtype\": \"number\",\n        \"std\": 0,\n        \"min\": 0,\n        \"max\": 1,\n        \"num_unique_values\": 2,\n        \"samples\": [\n          1,\n          0\n        ],\n        \"semantic_type\": \"\",\n        \"description\": \"\"\n      }\n    },\n    {\n      \"column\": \"FOREIGN\",\n      \"properties\": {\n        \"dtype\": \"number\",\n        \"std\": 0,\n        \"min\": 0,\n        \"max\": 1,\n        \"num_unique_values\": 2,\n        \"samples\": [\n          1,\n          0\n        ],\n        \"semantic_type\": \"\",\n        \"description\": \"\"\n      }\n    },\n    {\n      \"column\": \"CHK_ACCT_1\",\n      \"properties\": {\n        \"dtype\": \"uint8\",\n        \"num_unique_values\": 2,\n        \"samples\": [\n          1,\n          0\n        ],\n        \"semantic_type\": \"\",\n        \"description\": \"\"\n      }\n    },\n    {\n      \"column\": \"CHK_ACCT_2\",\n      \"properties\": {\n        \"dtype\": \"uint8\",\n        \"num_unique_values\": 2,\n        \"samples\": [\n          1,\n          0\n        ],\n        \"semantic_type\": \"\",\n        \"description\": \"\"\n      }\n    },\n    {\n      \"column\": \"CHK_ACCT_3\",\n      \"properties\": {\n        \"dtype\": \"uint8\",\n        \"num_unique_values\": 2,\n        \"samples\": [\n          1,\n          0\n        ],\n        \"semantic_type\": \"\",\n        \"description\": \"\"\n      }\n    },\n    {\n      \"column\": \"HISTORY_2\",\n      \"properties\": {\n        \"dtype\": \"uint8\",\n        \"num_unique_values\": 2,\n        \"samples\": [\n          1,\n          0\n        ],\n        \"semantic_type\": \"\",\n        \"description\": \"\"\n      }\n    },\n    {\n      \"column\": \"HISTORY_3\",\n      \"properties\": {\n        \"dtype\": \"uint8\",\n        \"num_unique_values\": 2,\n        \"samples\": [\n          1,\n          0\n        ],\n        \"semantic_type\": \"\",\n        \"description\": \"\"\n      }\n    },\n    {\n      \"column\": \"HISTORY_4\",\n      \"properties\": {\n        \"dtype\": \"uint8\",\n        \"num_unique_values\": 2,\n        \"samples\": [\n          0,\n          1\n        ],\n        \"semantic_type\": \"\",\n        \"description\": \"\"\n      }\n    },\n    {\n      \"column\": \"SAV_ACCT_3\",\n      \"properties\": {\n        \"dtype\": \"uint8\",\n        \"num_unique_values\": 2,\n        \"samples\": [\n          1,\n          0\n        ],\n        \"semantic_type\": \"\",\n        \"description\": \"\"\n      }\n    },\n    {\n      \"column\": \"SAV_ACCT_4\",\n      \"properties\": {\n        \"dtype\": \"uint8\",\n        \"num_unique_values\": 2,\n        \"samples\": [\n          0,\n          1\n        ],\n        \"semantic_type\": \"\",\n        \"description\": \"\"\n      }\n    },\n    {\n      \"column\": \"PRESENT_RESIDENT_2\",\n      \"properties\": {\n        \"dtype\": \"uint8\",\n        \"num_unique_values\": 2,\n        \"samples\": [\n          1,\n          0\n        ],\n        \"semantic_type\": \"\",\n        \"description\": \"\"\n      }\n    }\n  ]\n}"
            }
          },
          "metadata": {},
          "execution_count": 14
        }
      ]
    },
    {
      "cell_type": "markdown",
      "source": [
        "# TRAINING AND TESTING"
      ],
      "metadata": {
        "id": "_tBgoqT-l8Kc"
      }
    },
    {
      "cell_type": "markdown",
      "source": [
        "## BENCHMARK TRAINING"
      ],
      "metadata": {
        "id": "c1EA4fOPmS3t"
      }
    },
    {
      "cell_type": "code",
      "source": [
        "from sklearn.model_selection import train_test_split\n",
        "import matplotlib.pyplot as plt\n",
        "\n",
        "X = df_analysis\n",
        "y = data['DEFAULT'].astype(int)\n",
        "\n",
        "X_train, X_test, y_train, y_test = train_test_split(X, y, test_size=0.2, random_state=15, stratify=y)\n",
        "\n",
        "y_train_value_counts_normalized = y_train.value_counts(normalize=True)\n",
        "\n",
        "plt.figure(figsize=(8, 6))\n",
        "value_counts_normalized = y.value_counts(normalize=True)\n",
        "value_counts_normalized.plot(kind='bar', color='blue')\n",
        "plt.title('Distribution of Target Variable (Normalized) - Full Dataset')\n",
        "plt.xlabel('Target Variable')\n",
        "plt.ylabel('Normalized Frequency')\n",
        "plt.show()\n",
        "\n",
        "plt.figure(figsize=(8, 6))\n",
        "y_train_value_counts_normalized.plot(kind='bar', color='green')\n",
        "plt.title('Distribution of Target Variable (Normalized) - Training Set')\n",
        "plt.xlabel('Target Variable')\n",
        "plt.ylabel('Normalized Frequency')\n",
        "plt.show()\n"
      ],
      "metadata": {
        "colab": {
          "base_uri": "https://localhost:8080/",
          "height": 1000
        },
        "id": "_leL5HETZRPi",
        "outputId": "daedd170-0a96-4eaf-a0f3-87a3fc584ab9"
      },
      "execution_count": null,
      "outputs": [
        {
          "output_type": "display_data",
          "data": {
            "text/plain": [
              "<Figure size 800x600 with 1 Axes>"
            ],
            "image/png": "[encoded data removed]"
          },
          "metadata": {}
        },
        {
          "output_type": "display_data",
          "data": {
            "text/plain": [
              "<Figure size 800x600 with 1 Axes>"
            ],
            "image/png": "[encoded data removed]"
          },
          "metadata": {}
        }
      ]
    },
    {
      "cell_type": "code",
      "source": [
        "X_test.shape"
      ],
      "metadata": {
        "colab": {
          "base_uri": "https://localhost:8080/"
        },
        "id": "5xyaFDDEiuPb",
        "outputId": "0dfb9d8d-72fc-4458-9829-d2a96d4dddf4"
      },
      "execution_count": null,
      "outputs": [
        {
          "output_type": "execute_result",
          "data": {
            "text/plain": [
              "(160, 19)"
            ]
          },
          "metadata": {},
          "execution_count": 16
        }
      ]
    },
    {
      "cell_type": "code",
      "source": [
        "from tensorflow import keras\n",
        "from sklearn.metrics import classification_report, roc_curve, roc_auc_score\n",
        "import numpy as np\n",
        "import matplotlib.pyplot as plt\n",
        "\n",
        "def ANN(X_train, y_train, X_test, y_test, loss, weights):\n",
        "    model = keras.Sequential([\n",
        "        keras.layers.Dense(X_train.shape[1], input_dim=X_train.shape[1], activation='relu'),\n",
        "        keras.layers.Dense(15, activation='relu'),\n",
        "        keras.layers.Dense(1, activation='sigmoid')\n",
        "    ])\n",
        "\n",
        "    model.compile(optimizer='adam', loss=loss, metrics=['accuracy'])\n",
        "\n",
        "    if weights == -1:\n",
        "        model.fit(X_train, y_train, epochs=100, verbose=0)\n",
        "    else:\n",
        "        model.fit(X_train, y_train, epochs=100, class_weight=weights, verbose=0)\n",
        "\n",
        "    print(model.evaluate(X_test, y_test, verbose=0))\n",
        "\n",
        "    y_preds = model.predict(X_test)\n",
        "    y_preds = np.round(y_preds)\n",
        "\n",
        "    print(\"Classification Report: \\n\", classification_report(y_test, y_preds))\n",
        "\n",
        "    fpr, tpr, thresholds = roc_curve(y_test, y_preds.flatten())\n",
        "    roc_auc = roc_auc_score(y_test, y_preds.flatten())\n",
        "\n",
        "    plt.figure()\n",
        "    plt.plot(fpr, tpr, color='darkorange', lw=2, label=f'ROC curve (AUC = {roc_auc:.2f})')\n",
        "    plt.plot([0, 1], [0, 1], color='navy', lw=2, linestyle='--')\n",
        "    plt.xlim([0.0, 1.0])\n",
        "    plt.ylim([0.0, 1.05])\n",
        "    plt.xlabel('False Positive Rate')\n",
        "    plt.ylabel('True Positive Rate')\n",
        "    plt.title('Receiver Operating Characteristic (ROC) Curve')\n",
        "    plt.legend(loc='lower right')\n",
        "    plt.show()\n",
        "\n",
        "    return model, y_preds\n",
        "\n",
        "loss_function = 'binary_crossentropy'\n",
        "class_weights = {0: 1.0, 1: 1.0}\n",
        "\n",
        "model, y_preds = ANN(X_train, y_train, X_test, y_test, loss_function, -1)\n"
      ],
      "metadata": {
        "colab": {
          "base_uri": "https://localhost:8080/",
          "height": 686
        },
        "id": "FarKopmYi02y",
        "outputId": "f280a534-da24-4155-d716-dc70ab32e495"
      },
      "execution_count": null,
      "outputs": [
        {
          "output_type": "stream",
          "name": "stdout",
          "text": [
            "[0.4753503203392029, 0.8266666531562805]\n",
            "8/8 [==============================] - 0s 2ms/step\n",
            "Classification Report: \n",
            "               precision    recall  f1-score   support\n",
            "\n",
            "           0       0.92      0.72      0.81       113\n",
            "           1       0.77      0.94      0.84       112\n",
            "\n",
            "    accuracy                           0.83       225\n",
            "   macro avg       0.84      0.83      0.82       225\n",
            "weighted avg       0.84      0.83      0.82       225\n",
            "\n"
          ]
        },
        {
          "output_type": "display_data",
          "data": {
            "text/plain": [
              "<Figure size 640x480 with 1 Axes>"
            ],
            "image/png": "[encoded data removed]"
          },
          "metadata": {}
        }
      ]
    },
    {
      "cell_type": "markdown",
      "source": [
        "## RETRAINING TO ADDRESS DATA IMBALANCE"
      ],
      "metadata": {
        "id": "4V8LIC38mhc8"
      }
    },
    {
      "cell_type": "code",
      "source": [
        "from sklearn.utils import resample\n",
        "\n",
        "df_analysis['DEFAULT'] = data['DEFAULT']\n",
        "\n",
        "df_majority = df_analysis[df_analysis['DEFAULT'] == 0]\n",
        "df_minority = df_analysis[df_analysis['DEFAULT'] == 1]\n",
        "\n",
        "df_minority_upsampled = resample(df_minority,\n",
        "                                 replace=True,\n",
        "                                 n_samples=len(df_majority),\n",
        "                                 random_state=123)\n",
        "\n",
        "df_upsampled = pd.concat([df_majority, df_minority_upsampled])\n",
        "\n",
        "print('Random over-sampling:')\n",
        "print(df_upsampled['DEFAULT'].value_counts())\n",
        "\n",
        "value_counts_normalized = df_upsampled['DEFAULT'].value_counts(normalize=True)\n",
        "\n",
        "plt.figure(figsize=(8, 6))\n",
        "value_counts_normalized.plot(kind='bar', color='red')\n",
        "plt.title('Distribution of Target Variable (Normalized) - After Oversampling')\n",
        "plt.xlabel('Target Variable')\n",
        "plt.ylabel('Normalized Frequency')\n",
        "plt.show()\n"
      ],
      "metadata": {
        "colab": {
          "base_uri": "https://localhost:8080/",
          "height": 630
        },
        "id": "Xrc8ja8XosKX",
        "outputId": "7dbda370-be0f-4043-e12b-13fad6e8ee2f"
      },
      "execution_count": null,
      "outputs": [
        {
          "output_type": "stream",
          "name": "stdout",
          "text": [
            "Random over-sampling:\n",
            "0    561\n",
            "1    561\n",
            "Name: DEFAULT, dtype: int64\n"
          ]
        },
        {
          "output_type": "display_data",
          "data": {
            "text/plain": [
              "<Figure size 800x600 with 1 Axes>"
            ],
            "image/png": "[encoded data removed]"
          },
          "metadata": {}
        }
      ]
    },
    {
      "cell_type": "code",
      "source": [
        "from sklearn.model_selection import train_test_split\n",
        "\n",
        "X = df_upsampled.drop('DEFAULT', axis='columns')\n",
        "y = df_upsampled['DEFAULT']\n",
        "\n",
        "X_train, X_test, y_train, y_test = train_test_split(X, y, test_size=0.2, random_state=15, stratify=y)\n",
        "\n",
        "y_preds = ANN(X_train, y_train, X_test, y_test, 'binary_crossentropy', -1)"
      ],
      "metadata": {
        "colab": {
          "base_uri": "https://localhost:8080/",
          "height": 686
        },
        "id": "b1xoQEiGXPbd",
        "outputId": "d9d64c5b-aedf-4324-acfe-d59b74ad3bdb"
      },
      "execution_count": null,
      "outputs": [
        {
          "output_type": "stream",
          "name": "stdout",
          "text": [
            "[0.4880453944206238, 0.8177777528762817]\n",
            "8/8 [==============================] - 0s 2ms/step\n",
            "Classification Report: \n",
            "               precision    recall  f1-score   support\n",
            "\n",
            "           0       0.87      0.75      0.81       113\n",
            "           1       0.78      0.88      0.83       112\n",
            "\n",
            "    accuracy                           0.82       225\n",
            "   macro avg       0.82      0.82      0.82       225\n",
            "weighted avg       0.82      0.82      0.82       225\n",
            "\n"
          ]
        },
        {
          "output_type": "display_data",
          "data": {
            "text/plain": [
              "<Figure size 640x480 with 1 Axes>"
            ],
            "image/png": "[encoded data removed]"
          },
          "metadata": {}
        }
      ]
    },
    {
      "cell_type": "markdown",
      "source": [
        "# SAVING AND UTILIZING MODEL ON UNSEEN SET OF DATA"
      ],
      "metadata": {
        "id": "dFcjD7kEnF6C"
      }
    },
    {
      "cell_type": "code",
      "source": [
        "model.save('/content/my_model2')"
      ],
      "metadata": {
        "id": "knUuXHVYZJug"
      },
      "execution_count": null,
      "outputs": []
    },
    {
      "cell_type": "code",
      "source": [
        "import pandas as pd\n",
        "import numpy as np\n",
        "import statsmodels.api as sm\n",
        "from sklearn.preprocessing import StandardScaler\n",
        "from tensorflow.keras.models import load_model\n",
        "import matplotlib.pyplot as plt\n",
        "from sklearn.metrics import classification_report, roc_curve, roc_auc_score\n",
        "from imblearn.over_sampling import SMOTE\n",
        "\n",
        "new_data = pd.read_csv(\"/content/Last_200_Rows.csv\")\n",
        "\n",
        "scaler = StandardScaler()\n",
        "\n",
        "numerical_columns = ['DURATION', 'AMOUNT', 'AGE', 'INSTALL_RATE', 'NUM_CREDITS', 'NUM_DEPENDENTS']\n",
        "binary_columns = ['NEW_CAR', 'USED_CAR', 'FURNITURE', 'RADIO/TV', 'EDUCATION', 'RETRAINING', 'MALE_DIV', 'MALE_SINGLE', 'MALE_MAR_or_WID', 'CO-APPLICANT', 'GUARANTOR', 'REAL_ESTATE', 'PROP_UNKN_NONE', 'OTHER_INSTALL', 'RENT', 'OWN_RES', 'TELEPHONE', 'FOREIGN']\n",
        "categorical_columns = ['CHK_ACCT', 'HISTORY', 'SAV_ACCT', 'EMPLOYMENT', 'PRESENT_RESIDENT', 'JOB']\n",
        "\n",
        "new_data[numerical_columns] = scaler.fit_transform(new_data[numerical_columns])\n",
        "\n",
        "new_data[binary_columns] = new_data[binary_columns].astype(int)\n",
        "\n",
        "new_data = pd.get_dummies(new_data, columns=categorical_columns, drop_first=True)\n",
        "\n",
        "y_new = new_data['DEFAULT']\n",
        "X_new = new_data.drop('DEFAULT', axis=1)\n",
        "\n",
        "smote = SMOTE(sampling_strategy='minority')\n",
        "X_new_sm, y_new_sm = smote.fit_resample(X_new, y_new)\n",
        "\n",
        "final_features = [\n",
        "    'DURATION', 'AMOUNT', 'INSTALL_RATE', 'AGE', 'USED_CAR', 'MALE_SINGLE',\n",
        "    'REAL_ESTATE', 'PROP_UNKN_NONE', 'OTHER_INSTALL', 'FOREIGN', 'CHK_ACCT_1',\n",
        "    'CHK_ACCT_2', 'CHK_ACCT_3', 'HISTORY_2', 'HISTORY_3', 'HISTORY_4',\n",
        "    'SAV_ACCT_3', 'SAV_ACCT_4', 'PRESENT_RESIDENT_2'\n",
        "]\n",
        "\n",
        "for feature in final_features:\n",
        "    if feature not in X_new_sm.columns:\n",
        "        X_new_sm[feature] = 0\n",
        "\n",
        "X_new_sm_final = X_new_sm[final_features]\n",
        "\n",
        "model = load_model('/content/my_model2')\n",
        "\n",
        "predictions = model.predict(X_new_sm_final)\n",
        "\n",
        "print(\"Classification Report:\\n\", classification_report(y_new_sm, np.round(predictions)))\n",
        "\n",
        "print(y_new_sm.value_counts())\n",
        "\n",
        "print(X_new_sm_final.shape)\n"
      ],
      "metadata": {
        "colab": {
          "base_uri": "https://localhost:8080/"
        },
        "id": "-kSnV0EthTo0",
        "outputId": "5eedb0fe-c685-412e-f414-914cbf7f1a7a"
      },
      "execution_count": null,
      "outputs": [
        {
          "output_type": "stream",
          "name": "stdout",
          "text": [
            "9/9 [==============================] - 0s 3ms/step\n",
            "Classification Report:\n",
            "               precision    recall  f1-score   support\n",
            "\n",
            "           0       0.71      0.76      0.73       139\n",
            "           1       0.74      0.70      0.72       139\n",
            "\n",
            "    accuracy                           0.73       278\n",
            "   macro avg       0.73      0.73      0.73       278\n",
            "weighted avg       0.73      0.73      0.73       278\n",
            "\n",
            "0    139\n",
            "1    139\n",
            "Name: DEFAULT, dtype: int64\n",
            "(278, 19)\n"
          ]
        }
      ]
    }
  ]
}